{
 "cells": [
  {
   "cell_type": "markdown",
   "metadata": {},
   "source": []
  },
  {
   "cell_type": "code",
   "execution_count": 108,
   "metadata": {
    "collapsed": true
   },
   "outputs": [],
   "source": [
    "import collections\n",
    "\n",
    "import math\n",
    "\n",
    "from datetime import datetime\n",
    "\n",
    "import statsmodels.formula.api as smf\n",
    "\n",
    "import pandas as pd\n",
    "from pandas.api.types import is_string_dtype, is_numeric_dtype\n",
    "\n",
    "import numpy as np\n",
    "from numpy import inf\n",
    "\n",
    "from scipy import stats\n",
    "from scipy.stats import skew\n",
    "from scipy.stats import randint as sp_randint\n",
    "from scipy.stats import norm\n",
    "\n",
    "import matplotlib.pyplot as plt\n",
    "import matplotlib.image as mpimg\n",
    "from matplotlib import pyplot\n",
    "%matplotlib inline\n",
    "import seaborn as sns\n",
    "\n",
    "from sklearn.model_selection import StratifiedKFold\n",
    "from sklearn.model_selection import RandomizedSearchCV, GridSearchCV\n",
    "from sklearn.model_selection import KFold, cross_val_score, StratifiedKFold, train_test_split\n",
    "\n",
    "from sklearn.ensemble import RandomForestRegressor, RandomForestClassifier, GradientBoostingRegressor\n",
    "\n",
    "from sklearn import linear_model\n",
    "from sklearn.linear_model import LinearRegression\n",
    "from sklearn.linear_model import ElasticNet, Lasso, BayesianRidge, LassoLarsIC\n",
    "\n",
    "from sklearn.preprocessing import Normalizer\n",
    "from sklearn.preprocessing import StandardScaler\n",
    "from sklearn.preprocessing import RobustScaler\n",
    "\n",
    "from sklearn import metrics\n",
    "from sklearn.metrics import mean_absolute_error\n",
    "from sklearn.metrics import mean_squared_error\n",
    "from sklearn.metrics import confusion_matrix\n",
    "from sklearn.metrics import classification_report\n",
    "from sklearn.metrics import precision_recall_fscore_support\n",
    "from sklearn.metrics import accuracy_score\n",
    "\n",
    "from sklearn.kernel_ridge import KernelRidge\n",
    "from sklearn.pipeline import make_pipeline\n",
    "\n",
    "from sklearn.base import BaseEstimator, TransformerMixin, RegressorMixin, clone\n",
    "\n",
    "\n",
    "import xgboost as xgb\n",
    "from xgboost import XGBClassifier\n",
    "from xgboost import plot_importance\n",
    "\n",
    "\n",
    "import lightgbm as lgb\n",
    "\n",
    "\n",
    "from hyperopt import hp, tpe, STATUS_OK, Trials\n",
    "from hyperopt.fmin import fmin\n",
    "\n",
    "import warnings\n",
    "warnings.filterwarnings(\"ignore\")\n",
    "\n",
    "np.random.seed(42)"
   ]
  },
  {
   "cell_type": "markdown",
   "metadata": {},
   "source": [
    "## 1. Load Data"
   ]
  },
  {
   "cell_type": "code",
   "execution_count": 109,
   "metadata": {},
   "outputs": [],
   "source": [
    "# convert text data in the txt file into a pandas dataframe\n",
    "def get_df_review(filename='4U_Reviews.txt', encoding = \"ISO-8859-1\"):\n",
    "    \n",
    "    #map the content to dictionary\n",
    "    dict_review = {'Title':[], \n",
    "                   'User Name':[], \n",
    "                   'Country':[], \n",
    "                   'Date':[],\n",
    "                   'Rating':[], \n",
    "                   'Review':[], \n",
    "                   'Type Of Traveller':[], \n",
    "                   'Cabin Flown':[], \n",
    "                   'Route':[], \n",
    "                   'Date Flown':[], \n",
    "                   'Seat Comfort':[], \n",
    "                   'Cabin Staff Service':[], \n",
    "                   'Ground Service':[], \n",
    "                   'Value For Money':[], \n",
    "                   'Recommended':[]\n",
    "                  }\n",
    "\n",
    "    other_info_names = ['Type Of Traveller', \n",
    "                        'Cabin Flown', \n",
    "                        'Route', \n",
    "                        'Date Flown', \n",
    "                        'Seat Comfort', \n",
    "                        'Cabin Staff Service', \n",
    "                        'Ground Service', \n",
    "                        'Value For Money', \n",
    "                        'Recommended'\n",
    "                       ]\n",
    "    \n",
    "    f = open(filename, \"r\", encoding = encoding)\n",
    "    \n",
    "    review_info_list = [] \n",
    "    \n",
    "    for line in f:\n",
    "        if line == '\\n':\n",
    "            #print(\"-----\")\n",
    "            #print(review_info_list)\n",
    "\n",
    "            # get Title, User Name, Country, Date, Rating, Review\n",
    "            for i, line in enumerate(review_info_list):\n",
    "                # get title\n",
    "                if i == 0:\n",
    "                    #print('title: {}'.format(line))\n",
    "                    dict_review['Title'].append(line)\n",
    "                # get user name, country, date\n",
    "                elif i == 1:\n",
    "                    pos_start = line.find('(')\n",
    "                    pos_end = line.find(')')\n",
    "                    user_name = line[0:pos_start].strip()\n",
    "                    country_name = line[pos_start+1:pos_end].strip()\n",
    "                    date_str = line[pos_end+1:].strip()\n",
    "                    #print('user name: {}'.format(user_name))\n",
    "                    #print('country name: {}'.format(country_name))\n",
    "                    #print('date: {}'.format(date_str))\n",
    "                    dict_review['User Name'].append(user_name)\n",
    "                    dict_review['Country'].append(country_name)\n",
    "                    dict_review['Date'].append(date_str)\n",
    "                # get rating\n",
    "                elif i == 2:\n",
    "                    if line.strip() == 'na':\n",
    "                        rating = np.nan\n",
    "                    else:\n",
    "                        rating = int(line.strip())\n",
    "                    #print('rating: {}'.format(rating))\n",
    "                    dict_review['Rating'].append(rating)\n",
    "                # get review\n",
    "                elif i == 3:\n",
    "                    #print('review')\n",
    "                    #print(line.strip())\n",
    "                    dict_review['Review'].append(line.strip())\n",
    "            \n",
    "            # get other information     \n",
    "            for info_name in other_info_names:\n",
    "                review_info = ''\n",
    "                for i, line in enumerate(review_info_list):\n",
    "                    pos = line.find(info_name)\n",
    "                    if pos != -1:\n",
    "                        review_info = line[len(info_name)+1:].strip()\n",
    "                        break\n",
    "                dict_review[info_name].append(review_info)\n",
    "\n",
    "            review_info_list = [] \n",
    "        else:\n",
    "            line = line.replace('\\\"', '')\n",
    "            #print(line)\n",
    "            review_info_list.append(line)\n",
    "\n",
    "\n",
    "    df_review = pd.DataFrame(dict_review)\n",
    "    \n",
    "    # get route to and route from   \n",
    "    def f_from(x):\n",
    "        if x:\n",
    "            return x.split()[0]\n",
    "        return ''\n",
    "    def f_to(x):\n",
    "        if x:\n",
    "            return x.split()[2]\n",
    "        return ''\n",
    "    df_review['Route From'] = df_review['Route'].apply(f_from)\n",
    "    df_review['Route To'] = df_review['Route'].apply(f_to)\n",
    "    \n",
    "\n",
    "    return df_review\n",
    "            \n",
    "        "
   ]
  },
  {
   "cell_type": "code",
   "execution_count": 110,
   "metadata": {},
   "outputs": [],
   "source": [
    "df_review = get_df_review()"
   ]
  },
  {
   "cell_type": "markdown",
   "metadata": {},
   "source": [
    "## 2. EDA"
   ]
  },
  {
   "cell_type": "code",
   "execution_count": 111,
   "metadata": {},
   "outputs": [
    {
     "data": {
      "text/html": [
       "<div>\n",
       "<style>\n",
       "    .dataframe thead tr:only-child th {\n",
       "        text-align: right;\n",
       "    }\n",
       "\n",
       "    .dataframe thead th {\n",
       "        text-align: left;\n",
       "    }\n",
       "\n",
       "    .dataframe tbody tr th {\n",
       "        vertical-align: top;\n",
       "    }\n",
       "</style>\n",
       "<table border=\"1\" class=\"dataframe\">\n",
       "  <thead>\n",
       "    <tr style=\"text-align: right;\">\n",
       "      <th></th>\n",
       "      <th>Cabin Flown</th>\n",
       "      <th>Cabin Staff Service</th>\n",
       "      <th>Country</th>\n",
       "      <th>Date</th>\n",
       "      <th>Date Flown</th>\n",
       "      <th>Ground Service</th>\n",
       "      <th>Rating</th>\n",
       "      <th>Recommended</th>\n",
       "      <th>Review</th>\n",
       "      <th>Route</th>\n",
       "      <th>Seat Comfort</th>\n",
       "      <th>Title</th>\n",
       "      <th>Type Of Traveller</th>\n",
       "      <th>User Name</th>\n",
       "      <th>Value For Money</th>\n",
       "      <th>Route From</th>\n",
       "      <th>Route To</th>\n",
       "    </tr>\n",
       "  </thead>\n",
       "  <tbody>\n",
       "    <tr>\n",
       "      <th>0</th>\n",
       "      <td>Economy</td>\n",
       "      <td>12345</td>\n",
       "      <td>Canada</td>\n",
       "      <td>16th October 2015</td>\n",
       "      <td>September 2015</td>\n",
       "      <td>12345</td>\n",
       "      <td>2.0</td>\n",
       "      <td>no</td>\n",
       "      <td>We flew with Germanwings (or tried to) on Sept...</td>\n",
       "      <td>Stuttgart to Amsterdam</td>\n",
       "      <td>12345</td>\n",
       "      <td>they have been unresponsive\\n</td>\n",
       "      <td>Couple Leisure</td>\n",
       "      <td>Brian McNamee</td>\n",
       "      <td>12345</td>\n",
       "      <td>Stuttgart</td>\n",
       "      <td>Amsterdam</td>\n",
       "    </tr>\n",
       "    <tr>\n",
       "      <th>1</th>\n",
       "      <td>Economy</td>\n",
       "      <td>12345</td>\n",
       "      <td>United Kingdom</td>\n",
       "      <td>4th October 2015</td>\n",
       "      <td>September 2015</td>\n",
       "      <td>12345</td>\n",
       "      <td>3.0</td>\n",
       "      <td>no</td>\n",
       "      <td>I am less than impressed with Germanwings serv...</td>\n",
       "      <td>Hamburg to London</td>\n",
       "      <td>12345</td>\n",
       "      <td>I was refused some water\\n</td>\n",
       "      <td>Solo Leisure</td>\n",
       "      <td>L Mouratidou</td>\n",
       "      <td>12345</td>\n",
       "      <td>Hamburg</td>\n",
       "      <td>London</td>\n",
       "    </tr>\n",
       "    <tr>\n",
       "      <th>2</th>\n",
       "      <td>Economy</td>\n",
       "      <td>12345</td>\n",
       "      <td>Germany</td>\n",
       "      <td>21st September 2015</td>\n",
       "      <td>September 2015</td>\n",
       "      <td>12345</td>\n",
       "      <td>3.0</td>\n",
       "      <td>no</td>\n",
       "      <td>Flew from Palma de Mallorca to Cologne with Ge...</td>\n",
       "      <td>PMI to CGN</td>\n",
       "      <td>12345</td>\n",
       "      <td>the service crew were friendly but nothing more\\n</td>\n",
       "      <td>Couple Leisure</td>\n",
       "      <td>H Mutschler</td>\n",
       "      <td>12345</td>\n",
       "      <td>PMI</td>\n",
       "      <td>CGN</td>\n",
       "    </tr>\n",
       "    <tr>\n",
       "      <th>3</th>\n",
       "      <td></td>\n",
       "      <td>12345</td>\n",
       "      <td>Germany</td>\n",
       "      <td>20th September 2015</td>\n",
       "      <td>August 2015</td>\n",
       "      <td>12345</td>\n",
       "      <td>10.0</td>\n",
       "      <td>yes</td>\n",
       "      <td>Good flight from Berlin-Tegel to London Heathr...</td>\n",
       "      <td>Berlin-Tegel to London Heathrow</td>\n",
       "      <td>12345</td>\n",
       "      <td>no problems or delays, very friendly staff\\n</td>\n",
       "      <td>Business</td>\n",
       "      <td>Oliver Numrich</td>\n",
       "      <td>12345</td>\n",
       "      <td>Berlin-Tegel</td>\n",
       "      <td>London</td>\n",
       "    </tr>\n",
       "    <tr>\n",
       "      <th>4</th>\n",
       "      <td>Economy</td>\n",
       "      <td>12345</td>\n",
       "      <td>Germany</td>\n",
       "      <td>14th September 2015</td>\n",
       "      <td>September 2015</td>\n",
       "      <td>12345</td>\n",
       "      <td>4.0</td>\n",
       "      <td>no</td>\n",
       "      <td>I don't get why Germanwings is always late and...</td>\n",
       "      <td>CGN to LHR</td>\n",
       "      <td>12345</td>\n",
       "      <td>I don't get why Germanwings is always late\\n</td>\n",
       "      <td>Business</td>\n",
       "      <td>Andreas Huettenhoelscher</td>\n",
       "      <td>12345</td>\n",
       "      <td>CGN</td>\n",
       "      <td>LHR</td>\n",
       "    </tr>\n",
       "  </tbody>\n",
       "</table>\n",
       "</div>"
      ],
      "text/plain": [
       "  Cabin Flown Cabin Staff Service         Country                 Date  \\\n",
       "0     Economy               12345          Canada    16th October 2015   \n",
       "1     Economy               12345  United Kingdom     4th October 2015   \n",
       "2     Economy               12345         Germany  21st September 2015   \n",
       "3                           12345         Germany  20th September 2015   \n",
       "4     Economy               12345         Germany  14th September 2015   \n",
       "\n",
       "       Date Flown Ground Service  Rating Recommended  \\\n",
       "0  September 2015          12345     2.0          no   \n",
       "1  September 2015          12345     3.0          no   \n",
       "2  September 2015          12345     3.0          no   \n",
       "3     August 2015          12345    10.0         yes   \n",
       "4  September 2015          12345     4.0          no   \n",
       "\n",
       "                                              Review  \\\n",
       "0  We flew with Germanwings (or tried to) on Sept...   \n",
       "1  I am less than impressed with Germanwings serv...   \n",
       "2  Flew from Palma de Mallorca to Cologne with Ge...   \n",
       "3  Good flight from Berlin-Tegel to London Heathr...   \n",
       "4  I don't get why Germanwings is always late and...   \n",
       "\n",
       "                             Route Seat Comfort  \\\n",
       "0           Stuttgart to Amsterdam        12345   \n",
       "1                Hamburg to London        12345   \n",
       "2                       PMI to CGN        12345   \n",
       "3  Berlin-Tegel to London Heathrow        12345   \n",
       "4                       CGN to LHR        12345   \n",
       "\n",
       "                                               Title Type Of Traveller  \\\n",
       "0                      they have been unresponsive\\n    Couple Leisure   \n",
       "1                         I was refused some water\\n      Solo Leisure   \n",
       "2  the service crew were friendly but nothing more\\n    Couple Leisure   \n",
       "3       no problems or delays, very friendly staff\\n          Business   \n",
       "4       I don't get why Germanwings is always late\\n          Business   \n",
       "\n",
       "                  User Name Value For Money    Route From   Route To  \n",
       "0             Brian McNamee           12345     Stuttgart  Amsterdam  \n",
       "1              L Mouratidou           12345       Hamburg     London  \n",
       "2               H Mutschler           12345           PMI        CGN  \n",
       "3            Oliver Numrich           12345  Berlin-Tegel     London  \n",
       "4  Andreas Huettenhoelscher           12345           CGN        LHR  "
      ]
     },
     "execution_count": 111,
     "metadata": {},
     "output_type": "execute_result"
    }
   ],
   "source": [
    "df_review.head()"
   ]
  },
  {
   "cell_type": "code",
   "execution_count": 112,
   "metadata": {},
   "outputs": [
    {
     "name": "stdout",
     "output_type": "stream",
     "text": [
      "<class 'pandas.core.frame.DataFrame'>\n",
      "RangeIndex: 127 entries, 0 to 126\n",
      "Data columns (total 17 columns):\n",
      "Cabin Flown            127 non-null object\n",
      "Cabin Staff Service    127 non-null object\n",
      "Country                127 non-null object\n",
      "Date                   127 non-null object\n",
      "Date Flown             127 non-null object\n",
      "Ground Service         127 non-null object\n",
      "Rating                 114 non-null float64\n",
      "Recommended            127 non-null object\n",
      "Review                 127 non-null object\n",
      "Route                  127 non-null object\n",
      "Seat Comfort           127 non-null object\n",
      "Title                  127 non-null object\n",
      "Type Of Traveller      127 non-null object\n",
      "User Name              127 non-null object\n",
      "Value For Money        127 non-null object\n",
      "Route From             127 non-null object\n",
      "Route To               127 non-null object\n",
      "dtypes: float64(1), object(16)\n",
      "memory usage: 16.9+ KB\n"
     ]
    }
   ],
   "source": [
    "df_review.info()"
   ]
  },
  {
   "cell_type": "code",
   "execution_count": 113,
   "metadata": {},
   "outputs": [
    {
     "data": {
      "text/plain": [
       "(127, 17)"
      ]
     },
     "execution_count": 113,
     "metadata": {},
     "output_type": "execute_result"
    }
   ],
   "source": [
    "df_review.shape"
   ]
  },
  {
   "cell_type": "markdown",
   "metadata": {},
   "source": [
    "### 2.1 analyse target 'Recommended' "
   ]
  },
  {
   "cell_type": "code",
   "execution_count": 114,
   "metadata": {},
   "outputs": [
    {
     "data": {
      "text/plain": [
       "count     127\n",
       "unique      2\n",
       "top        no\n",
       "freq       65\n",
       "Name: Recommended, dtype: object"
      ]
     },
     "execution_count": 114,
     "metadata": {},
     "output_type": "execute_result"
    }
   ],
   "source": [
    "df_review['Recommended'].describe()"
   ]
  },
  {
   "cell_type": "code",
   "execution_count": 115,
   "metadata": {},
   "outputs": [
    {
     "data": {
      "text/plain": [
       "array(['no', 'yes'], dtype=object)"
      ]
     },
     "execution_count": 115,
     "metadata": {},
     "output_type": "execute_result"
    }
   ],
   "source": [
    "df_review['Recommended'].unique()"
   ]
  },
  {
   "cell_type": "code",
   "execution_count": 116,
   "metadata": {},
   "outputs": [
    {
     "data": {
      "text/plain": [
       "0"
      ]
     },
     "execution_count": 116,
     "metadata": {},
     "output_type": "execute_result"
    }
   ],
   "source": [
    "df_review['Recommended'].isnull().sum()"
   ]
  },
  {
   "cell_type": "code",
   "execution_count": 117,
   "metadata": {
    "collapsed": true
   },
   "outputs": [],
   "source": [
    "# convert string to integer\n",
    "def f(x):\n",
    "    if x=='yes':\n",
    "        return 1\n",
    "    else:\n",
    "        return 0\n",
    "df_review['Recommended'] = df_review['Recommended'].apply(f)"
   ]
  },
  {
   "cell_type": "code",
   "execution_count": 119,
   "metadata": {},
   "outputs": [
    {
     "data": {
      "text/plain": [
       "count    127.000000\n",
       "mean       0.488189\n",
       "std        0.501840\n",
       "min        0.000000\n",
       "25%        0.000000\n",
       "50%        0.000000\n",
       "75%        1.000000\n",
       "max        1.000000\n",
       "Name: Recommended, dtype: float64"
      ]
     },
     "execution_count": 119,
     "metadata": {},
     "output_type": "execute_result"
    }
   ],
   "source": [
    "df_review['Recommended'].describe()"
   ]
  },
  {
   "cell_type": "code",
   "execution_count": 120,
   "metadata": {},
   "outputs": [
    {
     "data": {
      "text/plain": [
       "<matplotlib.axes._subplots.AxesSubplot at 0x1a183ef048>"
      ]
     },
     "execution_count": 120,
     "metadata": {},
     "output_type": "execute_result"
    },
    {
     "data": {
      "image/png": "[encoded data removed]",
      "text/plain": [
       "<matplotlib.figure.Figure at 0x1a183dddd8>"
      ]
     },
     "metadata": {},
     "output_type": "display_data"
    }
   ],
   "source": [
    "sns.distplot(df_review['Recommended'])"
   ]
  },
  {
   "cell_type": "code",
   "execution_count": 121,
   "metadata": {},
   "outputs": [
    {
     "data": {
      "text/plain": [
       "(62, 17)"
      ]
     },
     "execution_count": 121,
     "metadata": {},
     "output_type": "execute_result"
    }
   ],
   "source": [
    "df_review[df_review['Recommended'] == 1].shape"
   ]
  },
  {
   "cell_type": "code",
   "execution_count": 122,
   "metadata": {},
   "outputs": [
    {
     "data": {
      "text/plain": [
       "(65, 17)"
      ]
     },
     "execution_count": 122,
     "metadata": {},
     "output_type": "execute_result"
    }
   ],
   "source": [
    "df_review[df_review['Recommended'] == 0].shape"
   ]
  },
  {
   "cell_type": "code",
   "execution_count": null,
   "metadata": {
    "collapsed": true
   },
   "outputs": [],
   "source": []
  },
  {
   "cell_type": "markdown",
   "metadata": {},
   "source": [
    "## 3. Modelling"
   ]
  },
  {
   "cell_type": "code",
   "execution_count": null,
   "metadata": {
    "collapsed": true
   },
   "outputs": [],
   "source": []
  },
  {
   "cell_type": "code",
   "execution_count": null,
   "metadata": {
    "collapsed": true
   },
   "outputs": [],
   "source": []
  },
  {
   "cell_type": "code",
   "execution_count": null,
   "metadata": {
    "collapsed": true
   },
   "outputs": [],
   "source": []
  }
 ],
 "metadata": {
  "kernelspec": {
   "display_name": "Python 3",
   "language": "python",
   "name": "python3"
  },
  "language_info": {
   "codemirror_mode": {
    "name": "ipython",
    "version": 3
   },
   "file_extension": ".py",
   "mimetype": "text/x-python",
   "name": "python",
   "nbconvert_exporter": "python",
   "pygments_lexer": "ipython3",
   "version": "3.6.8"
  }
 },
 "nbformat": 4,
 "nbformat_minor": 2
}
