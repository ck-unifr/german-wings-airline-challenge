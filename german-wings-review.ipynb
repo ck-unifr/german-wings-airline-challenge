{
 "cells": [
  {
   "cell_type": "markdown",
   "metadata": {},
   "source": []
  },
  {
   "cell_type": "markdown",
   "metadata": {},
   "source": [
    "## 1. Load Data"
   ]
  },
  {
   "cell_type": "code",
   "execution_count": 15,
   "metadata": {},
   "outputs": [
    {
     "name": "stdout",
     "output_type": "stream",
     "text": [
      "-----\n",
      "rating: 2\n",
      "-----\n",
      "rating: 3\n",
      "-----\n",
      "rating: 3\n",
      "-----\n",
      "rating: 10\n",
      "-----\n",
      "rating: 4\n",
      "-----\n",
      "rating: 1\n",
      "-----\n",
      "rating: 7\n",
      "-----\n",
      "rating: 2\n",
      "-----\n",
      "rating: 2\n",
      "-----\n",
      "rating: 5\n",
      "-----\n",
      "rating: 2\n",
      "-----\n",
      "rating: 10\n",
      "-----\n",
      "rating: 1\n",
      "-----\n",
      "rating: 2\n",
      "-----\n",
      "rating: 7\n",
      "-----\n",
      "rating: 7\n",
      "-----\n",
      "rating: 9\n",
      "-----\n",
      "rating: 2\n",
      "-----\n",
      "rating: 4\n",
      "-----\n",
      "rating: 7\n",
      "-----\n",
      "rating: 8\n",
      "-----\n",
      "rating: 10\n",
      "-----\n",
      "rating: 2\n",
      "-----\n",
      "rating: 9\n",
      "-----\n",
      "rating: 8\n",
      "-----\n",
      "rating: 7\n",
      "-----\n",
      "rating: 8\n",
      "-----\n",
      "rating: 2\n",
      "-----\n",
      "rating: 10\n",
      "-----\n",
      "rating: 2\n",
      "-----\n",
      "rating: 10\n",
      "-----\n"
     ]
    },
    {
     "ename": "ValueError",
     "evalue": "invalid literal for int() with base 10: 'na'",
     "output_type": "error",
     "traceback": [
      "\u001b[0;31m---------------------------------------------------------------------------\u001b[0m",
      "\u001b[0;31mValueError\u001b[0m                                Traceback (most recent call last)",
      "\u001b[0;32m<ipython-input-15-4651f6a3b8d0>\u001b[0m in \u001b[0;36m<module>\u001b[0;34m()\u001b[0m\n\u001b[1;32m     31\u001b[0m                 \u001b[0mreview_info_list\u001b[0m \u001b[0;34m=\u001b[0m \u001b[0;34m[\u001b[0m\u001b[0;34m]\u001b[0m\u001b[0;34m\u001b[0m\u001b[0;34m\u001b[0m\u001b[0m\n\u001b[1;32m     32\u001b[0m             \u001b[0;32melif\u001b[0m \u001b[0mi\u001b[0m \u001b[0;34m==\u001b[0m \u001b[0;36m2\u001b[0m\u001b[0;34m:\u001b[0m\u001b[0;34m\u001b[0m\u001b[0;34m\u001b[0m\u001b[0m\n\u001b[0;32m---> 33\u001b[0;31m                 \u001b[0mrating\u001b[0m \u001b[0;34m=\u001b[0m \u001b[0mint\u001b[0m\u001b[0;34m(\u001b[0m\u001b[0mline\u001b[0m\u001b[0;34m.\u001b[0m\u001b[0mstrip\u001b[0m\u001b[0;34m(\u001b[0m\u001b[0;34m)\u001b[0m\u001b[0;34m)\u001b[0m\u001b[0;34m\u001b[0m\u001b[0;34m\u001b[0m\u001b[0m\n\u001b[0m\u001b[1;32m     34\u001b[0m                 \u001b[0mprint\u001b[0m\u001b[0;34m(\u001b[0m\u001b[0;34m'rating: {}'\u001b[0m\u001b[0;34m.\u001b[0m\u001b[0mformat\u001b[0m\u001b[0;34m(\u001b[0m\u001b[0mrating\u001b[0m\u001b[0;34m)\u001b[0m\u001b[0;34m)\u001b[0m\u001b[0;34m\u001b[0m\u001b[0;34m\u001b[0m\u001b[0m\n\u001b[1;32m     35\u001b[0m \u001b[0;34m\u001b[0m\u001b[0m\n",
      "\u001b[0;31mValueError\u001b[0m: invalid literal for int() with base 10: 'na'"
     ]
    }
   ],
   "source": [
    "# convert text data in the txt file into a pandas dataframe\n",
    "\n",
    "f = open(\"4U_Reviews.txt\", \"r\", encoding = \"ISO-8859-1\")\n",
    "\n",
    "#map the content to dictionary\n",
    "dict_review = {'title':[], 'user_name':[], 'country':[], 'date':[],\n",
    "              'rating':[], 'review':[], 'type_traveller':[], 'cabin':[], \n",
    "               'route_from':[], 'route_to':[], 'date_flown':[], 'recommend':[]}\n",
    "\n",
    "review_info_list = []\n",
    "for line in f:\n",
    "    if line == '\\n':\n",
    "        print(\"-----\")\n",
    "        #print(review_info_list)\n",
    "        for i, line in enumerate(review_info_list):\n",
    "            if i == 0:\n",
    "                #print('title: {}'.format(line))\n",
    "                dict_review['title'].append(line)\n",
    "            elif i == 1:\n",
    "                pos_start = line.find('(')\n",
    "                pos_end = line.find(')')\n",
    "                user_name = line[0:pos_start].strip()\n",
    "                country_name = line[pos_start+1:pos_end].strip()\n",
    "                date_str = line[pos_end+1:].strip()\n",
    "                #print('user name: {}'.format(user_name))\n",
    "                #print('country name: {}'.format(country_name))\n",
    "                #print('date: {}'.format(date_str))\n",
    "                dict_review['user_name'].append(user_name)\n",
    "                dict_review['country'].append(country_name)\n",
    "                dict_review['date'].append(date_str)\n",
    "                review_info_list = []\n",
    "            elif i == 2:\n",
    "                rating = int(line.strip())\n",
    "                print('rating: {}'.format(rating))\n",
    "                \n",
    "    else:\n",
    "        line = line.replace('\\\"', '')\n",
    "        #print(line)\n",
    "        review_info_list.append(line)\n",
    "    \n",
    "    \n",
    "            \n",
    "            \n",
    "        "
   ]
  },
  {
   "cell_type": "code",
   "execution_count": null,
   "metadata": {
    "collapsed": true
   },
   "outputs": [],
   "source": [
    "\n",
    "        "
   ]
  },
  {
   "cell_type": "markdown",
   "metadata": {},
   "source": [
    "## 2. EDA"
   ]
  },
  {
   "cell_type": "code",
   "execution_count": null,
   "metadata": {
    "collapsed": true
   },
   "outputs": [],
   "source": []
  },
  {
   "cell_type": "code",
   "execution_count": null,
   "metadata": {
    "collapsed": true
   },
   "outputs": [],
   "source": []
  },
  {
   "cell_type": "code",
   "execution_count": null,
   "metadata": {
    "collapsed": true
   },
   "outputs": [],
   "source": []
  },
  {
   "cell_type": "code",
   "execution_count": null,
   "metadata": {
    "collapsed": true
   },
   "outputs": [],
   "source": []
  },
  {
   "cell_type": "markdown",
   "metadata": {},
   "source": [
    "## 3. Modelling"
   ]
  },
  {
   "cell_type": "code",
   "execution_count": null,
   "metadata": {
    "collapsed": true
   },
   "outputs": [],
   "source": []
  },
  {
   "cell_type": "code",
   "execution_count": null,
   "metadata": {
    "collapsed": true
   },
   "outputs": [],
   "source": []
  },
  {
   "cell_type": "code",
   "execution_count": null,
   "metadata": {
    "collapsed": true
   },
   "outputs": [],
   "source": []
  }
 ],
 "metadata": {
  "kernelspec": {
   "display_name": "Python 3",
   "language": "python",
   "name": "python3"
  },
  "language_info": {
   "codemirror_mode": {
    "name": "ipython",
    "version": 3
   },
   "file_extension": ".py",
   "mimetype": "text/x-python",
   "name": "python",
   "nbconvert_exporter": "python",
   "pygments_lexer": "ipython3",
   "version": "3.6.8"
  }
 },
 "nbformat": 4,
 "nbformat_minor": 2
}
