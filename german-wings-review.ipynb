{
 "cells": [
  {
   "cell_type": "markdown",
   "metadata": {},
   "source": [
    "## German wings review challenge\n",
    "\n",
    "The goal of this notebook is to show based on the customer review data how to predict the target variable 'Recommended'.\n",
    "The data is found in a text file holding a set of reviews about the German wings airline (airline code ‘4U’).\n"
   ]
  },
  {
   "cell_type": "code",
   "execution_count": 385,
   "metadata": {},
   "outputs": [
    {
     "name": "stdout",
     "output_type": "stream",
     "text": [
      "[nltk_data] Downloading package punkt to /Users/kai/nltk_data...\n",
      "[nltk_data]   Package punkt is already up-to-date!\n"
     ]
    }
   ],
   "source": [
    "import collections\n",
    "from collections import Counter\n",
    "\n",
    "import sys, os, re, csv, codecs, math\n",
    "\n",
    "from datetime import datetime\n",
    "\n",
    "import statsmodels.formula.api as smf\n",
    "\n",
    "import pandas as pd\n",
    "from pandas.api.types import is_string_dtype, is_numeric_dtype\n",
    "\n",
    "import numpy as np\n",
    "from numpy import inf\n",
    "\n",
    "from scipy import stats\n",
    "from scipy.stats import skew, norm\n",
    "from scipy.stats import randint as sp_randint\n",
    "from scipy import interp\n",
    "\n",
    "import matplotlib.pyplot as plt\n",
    "import matplotlib.image as mpimg\n",
    "from matplotlib import pyplot\n",
    "%matplotlib inline\n",
    "import seaborn as sns\n",
    "\n",
    "from sklearn import preprocessing, decomposition, model_selection, metrics, pipeline\n",
    "from sklearn.model_selection import StratifiedKFold\n",
    "from sklearn.model_selection import RandomizedSearchCV, GridSearchCV\n",
    "from sklearn.model_selection import KFold, cross_val_score, StratifiedKFold, train_test_split\n",
    "from sklearn.ensemble import RandomForestRegressor, RandomForestClassifier, GradientBoostingRegressor\n",
    "from sklearn import linear_model\n",
    "from sklearn.linear_model import LinearRegression, LogisticRegression\n",
    "from sklearn.linear_model import ElasticNet, Lasso, BayesianRidge, LassoLarsIC\n",
    "from sklearn.svm import SVC\n",
    "from sklearn.naive_bayes import MultinomialNB\n",
    "from sklearn.preprocessing import Normalizer\n",
    "from sklearn.preprocessing import StandardScaler\n",
    "from sklearn.preprocessing import RobustScaler\n",
    "from sklearn.preprocessing import label_binarize\n",
    "from sklearn import metrics\n",
    "from sklearn.metrics import roc_curve, auc, roc_auc_score\n",
    "from sklearn.metrics import mean_absolute_error\n",
    "from sklearn.metrics import mean_squared_error\n",
    "from sklearn.metrics import confusion_matrix\n",
    "from sklearn.metrics import classification_report\n",
    "from sklearn.metrics import precision_recall_fscore_support\n",
    "from sklearn.metrics import precision_recall_curve\n",
    "from sklearn.metrics import accuracy_score\n",
    "from sklearn.metrics import average_precision_score\n",
    "from sklearn.kernel_ridge import KernelRidge\n",
    "from sklearn.pipeline import make_pipeline\n",
    "from sklearn.base import BaseEstimator, TransformerMixin, RegressorMixin, clone\n",
    "from sklearn.feature_extraction.text import TfidfVectorizer, CountVectorizer\n",
    "from sklearn.decomposition import TruncatedSVD\n",
    "from sklearn.utils.fixes import signature\n",
    "\n",
    "import xgboost as xgb\n",
    "from xgboost import XGBClassifier\n",
    "from xgboost import plot_importance\n",
    "\n",
    "import lightgbm as lgb\n",
    "\n",
    "from hyperopt import hp, tpe, STATUS_OK, Trials\n",
    "from hyperopt.fmin import fmin\n",
    "\n",
    "import warnings\n",
    "warnings.filterwarnings(\"ignore\")\n",
    "\n",
    "from tqdm import tqdm\n",
    "\n",
    "from keras.preprocessing.text import Tokenizer\n",
    "from keras.preprocessing.sequence import pad_sequences\n",
    "from keras.preprocessing import sequence, text\n",
    "from keras.layers import Dense, Input, LSTM, Embedding, Dropout, Activation\n",
    "from keras.layers import Bidirectional, GlobalMaxPool1D\n",
    "from keras.models import Model\n",
    "from keras import initializers, regularizers, constraints, optimizers, layers\n",
    "from keras.utils import np_utils\n",
    "from keras.models import Sequential\n",
    "from keras.layers.recurrent import LSTM, GRU\n",
    "from keras.layers.core import Dense, Activation, Dropout\n",
    "from keras.layers.embeddings import Embedding\n",
    "from keras.layers.normalization import BatchNormalization\n",
    "from keras.layers import GlobalMaxPooling1D, Conv1D, MaxPooling1D, Flatten, Bidirectional, SpatialDropout1D\n",
    "from keras.callbacks import EarlyStopping\n",
    "\n",
    "import nltk\n",
    "from nltk import word_tokenize\n",
    "from nltk.corpus import stopwords\n",
    "\n",
    "nltk.download('punkt')\n",
    "\n",
    "#stop_words = nltk.download('stopwords')\n",
    "stop_words = stopwords.words('english')\n",
    "\n",
    "np.random.seed(42)"
   ]
  },
  {
   "cell_type": "markdown",
   "metadata": {},
   "source": [
    "## 1. Load Data"
   ]
  },
  {
   "cell_type": "code",
   "execution_count": 386,
   "metadata": {
    "collapsed": true
   },
   "outputs": [],
   "source": [
    "def get_df_review(filename='4U_Reviews.txt', encoding = \"ISO-8859-1\"):\n",
    "    \"\"\"\n",
    "    convert text data in the txt file into a pandas dataframe\n",
    "    \"\"\"\n",
    "    #map the content to dictionary\n",
    "    dict_review = {'Title':[], \n",
    "                   'User Name':[], \n",
    "                   'Country':[], \n",
    "                   'Date':[],\n",
    "                   'Rating':[], \n",
    "                   'Review':[], \n",
    "                   'Type Of Traveller':[], \n",
    "                   'Cabin Flown':[], \n",
    "                   'Route':[], \n",
    "                   'Date Flown':[], \n",
    "                   'Seat Comfort':[], \n",
    "                   'Cabin Staff Service':[], \n",
    "                   'Ground Service':[], \n",
    "                   'Value For Money':[], \n",
    "                   'Recommended':[]\n",
    "                  }\n",
    "\n",
    "    other_info_names = ['Type Of Traveller', \n",
    "                        'Cabin Flown', \n",
    "                        'Route', \n",
    "                        'Date Flown', \n",
    "                        'Seat Comfort', \n",
    "                        'Cabin Staff Service', \n",
    "                        'Ground Service', \n",
    "                        'Value For Money', \n",
    "                        'Recommended'\n",
    "                       ]\n",
    "    \n",
    "    f = open(filename, \"r\", encoding = encoding)\n",
    "    \n",
    "    review_info_list = [] \n",
    "    \n",
    "    for line in f:\n",
    "        if line == '\\n':\n",
    "            #print(\"-----\")\n",
    "            #print(review_info_list)\n",
    "\n",
    "            # get Title, User Name, Country, Date, Rating, Review\n",
    "            for i, line in enumerate(review_info_list):\n",
    "                # get title\n",
    "                if i == 0:\n",
    "                    #print('title: {}'.format(line))\n",
    "                    dict_review['Title'].append(line)\n",
    "                # get user name, country, date\n",
    "                elif i == 1:\n",
    "                    user_name = ''\n",
    "                    country_name = ''\n",
    "                    date_str = ''\n",
    "                    \n",
    "                    pos_start = line.find('(')\n",
    "                    pos_end = line.find(')')\n",
    "                    if pos_start != -1:\n",
    "                        user_name = line[0:pos_start].strip()\n",
    "                        country_name = line[pos_start+1:pos_end].strip()\n",
    "                        date_str = line[pos_end+1:].strip()\n",
    "                    else:\n",
    "                        str_list = line.split()\n",
    "                        if len(str_list) == 5:\n",
    "                            user_name = str_list[0] + ' ' + str_list[1]\n",
    "                            country_name = ''\n",
    "                            date_str = str_list[-3].strip() + ' ' + str_list[-2].strip() + ' ' + str_list[-1].strip()\n",
    "                        \n",
    "                    #print('user name: {}'.format(user_name))\n",
    "                    #print('country name: {}'.format(country_name))\n",
    "                    #print('date: {}'.format(date_str))\n",
    "                    dict_review['User Name'].append(user_name)\n",
    "                    dict_review['Country'].append(country_name)\n",
    "                    dict_review['Date'].append(date_str)\n",
    "                # get rating\n",
    "                elif i == 2:\n",
    "                    if line.strip() == 'na':\n",
    "                        rating = np.nan\n",
    "                    else:\n",
    "                        rating = int(line.strip())\n",
    "                    #print('rating: {}'.format(rating))\n",
    "                    dict_review['Rating'].append(rating)\n",
    "                # get review\n",
    "                elif i == 3:\n",
    "                    #print('review')\n",
    "                    #print(line.strip())\n",
    "                    dict_review['Review'].append(line.strip())\n",
    "            \n",
    "            # get other information     \n",
    "            for info_name in other_info_names:\n",
    "                review_info = ''\n",
    "                for i, line in enumerate(review_info_list):\n",
    "                    pos = line.find(info_name)\n",
    "                    if pos != -1:\n",
    "                        review_info = line[len(info_name)+1:].strip()\n",
    "                        break\n",
    "                dict_review[info_name].append(review_info)\n",
    "\n",
    "            review_info_list = [] \n",
    "        else:\n",
    "            line = line.replace('\\\"', '')\n",
    "            #print(line)\n",
    "            review_info_list.append(line)\n",
    "\n",
    "    df_review = pd.DataFrame(dict_review)\n",
    "    \n",
    "    # get route to and route from   \n",
    "    def f_from(x):\n",
    "        if x:\n",
    "            return x.split()[0]\n",
    "        return ''\n",
    "    def f_to(x):\n",
    "        if x:\n",
    "            return x.split()[2]\n",
    "        return ''\n",
    "    df_review['Route From'] = df_review['Route'].apply(f_from)\n",
    "    df_review['Route To'] = df_review['Route'].apply(f_to)\n",
    "    \n",
    "    return df_review    "
   ]
  },
  {
   "cell_type": "code",
   "execution_count": 387,
   "metadata": {
    "collapsed": true
   },
   "outputs": [],
   "source": [
    "df_review = get_df_review()"
   ]
  },
  {
   "cell_type": "markdown",
   "metadata": {},
   "source": [
    "## 2. EDA"
   ]
  },
  {
   "cell_type": "code",
   "execution_count": 388,
   "metadata": {},
   "outputs": [
    {
     "data": {
      "text/html": [
       "<div>\n",
       "<style>\n",
       "    .dataframe thead tr:only-child th {\n",
       "        text-align: right;\n",
       "    }\n",
       "\n",
       "    .dataframe thead th {\n",
       "        text-align: left;\n",
       "    }\n",
       "\n",
       "    .dataframe tbody tr th {\n",
       "        vertical-align: top;\n",
       "    }\n",
       "</style>\n",
       "<table border=\"1\" class=\"dataframe\">\n",
       "  <thead>\n",
       "    <tr style=\"text-align: right;\">\n",
       "      <th></th>\n",
       "      <th>Cabin Flown</th>\n",
       "      <th>Cabin Staff Service</th>\n",
       "      <th>Country</th>\n",
       "      <th>Date</th>\n",
       "      <th>Date Flown</th>\n",
       "      <th>Ground Service</th>\n",
       "      <th>Rating</th>\n",
       "      <th>Recommended</th>\n",
       "      <th>Review</th>\n",
       "      <th>Route</th>\n",
       "      <th>Seat Comfort</th>\n",
       "      <th>Title</th>\n",
       "      <th>Type Of Traveller</th>\n",
       "      <th>User Name</th>\n",
       "      <th>Value For Money</th>\n",
       "      <th>Route From</th>\n",
       "      <th>Route To</th>\n",
       "    </tr>\n",
       "  </thead>\n",
       "  <tbody>\n",
       "    <tr>\n",
       "      <th>0</th>\n",
       "      <td>Economy</td>\n",
       "      <td>12345</td>\n",
       "      <td>Canada</td>\n",
       "      <td>16th October 2015</td>\n",
       "      <td>September 2015</td>\n",
       "      <td>12345</td>\n",
       "      <td>2.0</td>\n",
       "      <td>no</td>\n",
       "      <td>We flew with Germanwings (or tried to) on Sept...</td>\n",
       "      <td>Stuttgart to Amsterdam</td>\n",
       "      <td>12345</td>\n",
       "      <td>they have been unresponsive\\n</td>\n",
       "      <td>Couple Leisure</td>\n",
       "      <td>Brian McNamee</td>\n",
       "      <td>12345</td>\n",
       "      <td>Stuttgart</td>\n",
       "      <td>Amsterdam</td>\n",
       "    </tr>\n",
       "    <tr>\n",
       "      <th>1</th>\n",
       "      <td>Economy</td>\n",
       "      <td>12345</td>\n",
       "      <td>United Kingdom</td>\n",
       "      <td>4th October 2015</td>\n",
       "      <td>September 2015</td>\n",
       "      <td>12345</td>\n",
       "      <td>3.0</td>\n",
       "      <td>no</td>\n",
       "      <td>I am less than impressed with Germanwings serv...</td>\n",
       "      <td>Hamburg to London</td>\n",
       "      <td>12345</td>\n",
       "      <td>I was refused some water\\n</td>\n",
       "      <td>Solo Leisure</td>\n",
       "      <td>L Mouratidou</td>\n",
       "      <td>12345</td>\n",
       "      <td>Hamburg</td>\n",
       "      <td>London</td>\n",
       "    </tr>\n",
       "    <tr>\n",
       "      <th>2</th>\n",
       "      <td>Economy</td>\n",
       "      <td>12345</td>\n",
       "      <td>Germany</td>\n",
       "      <td>21st September 2015</td>\n",
       "      <td>September 2015</td>\n",
       "      <td>12345</td>\n",
       "      <td>3.0</td>\n",
       "      <td>no</td>\n",
       "      <td>Flew from Palma de Mallorca to Cologne with Ge...</td>\n",
       "      <td>PMI to CGN</td>\n",
       "      <td>12345</td>\n",
       "      <td>the service crew were friendly but nothing more\\n</td>\n",
       "      <td>Couple Leisure</td>\n",
       "      <td>H Mutschler</td>\n",
       "      <td>12345</td>\n",
       "      <td>PMI</td>\n",
       "      <td>CGN</td>\n",
       "    </tr>\n",
       "    <tr>\n",
       "      <th>3</th>\n",
       "      <td></td>\n",
       "      <td>12345</td>\n",
       "      <td>Germany</td>\n",
       "      <td>20th September 2015</td>\n",
       "      <td>August 2015</td>\n",
       "      <td>12345</td>\n",
       "      <td>10.0</td>\n",
       "      <td>yes</td>\n",
       "      <td>Good flight from Berlin-Tegel to London Heathr...</td>\n",
       "      <td>Berlin-Tegel to London Heathrow</td>\n",
       "      <td>12345</td>\n",
       "      <td>no problems or delays, very friendly staff\\n</td>\n",
       "      <td>Business</td>\n",
       "      <td>Oliver Numrich</td>\n",
       "      <td>12345</td>\n",
       "      <td>Berlin-Tegel</td>\n",
       "      <td>London</td>\n",
       "    </tr>\n",
       "    <tr>\n",
       "      <th>4</th>\n",
       "      <td>Economy</td>\n",
       "      <td>12345</td>\n",
       "      <td>Germany</td>\n",
       "      <td>14th September 2015</td>\n",
       "      <td>September 2015</td>\n",
       "      <td>12345</td>\n",
       "      <td>4.0</td>\n",
       "      <td>no</td>\n",
       "      <td>I don't get why Germanwings is always late and...</td>\n",
       "      <td>CGN to LHR</td>\n",
       "      <td>12345</td>\n",
       "      <td>I don't get why Germanwings is always late\\n</td>\n",
       "      <td>Business</td>\n",
       "      <td>Andreas Huettenhoelscher</td>\n",
       "      <td>12345</td>\n",
       "      <td>CGN</td>\n",
       "      <td>LHR</td>\n",
       "    </tr>\n",
       "  </tbody>\n",
       "</table>\n",
       "</div>"
      ],
      "text/plain": [
       "  Cabin Flown Cabin Staff Service         Country                 Date  \\\n",
       "0     Economy               12345          Canada    16th October 2015   \n",
       "1     Economy               12345  United Kingdom     4th October 2015   \n",
       "2     Economy               12345         Germany  21st September 2015   \n",
       "3                           12345         Germany  20th September 2015   \n",
       "4     Economy               12345         Germany  14th September 2015   \n",
       "\n",
       "       Date Flown Ground Service  Rating Recommended  \\\n",
       "0  September 2015          12345     2.0          no   \n",
       "1  September 2015          12345     3.0          no   \n",
       "2  September 2015          12345     3.0          no   \n",
       "3     August 2015          12345    10.0         yes   \n",
       "4  September 2015          12345     4.0          no   \n",
       "\n",
       "                                              Review  \\\n",
       "0  We flew with Germanwings (or tried to) on Sept...   \n",
       "1  I am less than impressed with Germanwings serv...   \n",
       "2  Flew from Palma de Mallorca to Cologne with Ge...   \n",
       "3  Good flight from Berlin-Tegel to London Heathr...   \n",
       "4  I don't get why Germanwings is always late and...   \n",
       "\n",
       "                             Route Seat Comfort  \\\n",
       "0           Stuttgart to Amsterdam        12345   \n",
       "1                Hamburg to London        12345   \n",
       "2                       PMI to CGN        12345   \n",
       "3  Berlin-Tegel to London Heathrow        12345   \n",
       "4                       CGN to LHR        12345   \n",
       "\n",
       "                                               Title Type Of Traveller  \\\n",
       "0                      they have been unresponsive\\n    Couple Leisure   \n",
       "1                         I was refused some water\\n      Solo Leisure   \n",
       "2  the service crew were friendly but nothing more\\n    Couple Leisure   \n",
       "3       no problems or delays, very friendly staff\\n          Business   \n",
       "4       I don't get why Germanwings is always late\\n          Business   \n",
       "\n",
       "                  User Name Value For Money    Route From   Route To  \n",
       "0             Brian McNamee           12345     Stuttgart  Amsterdam  \n",
       "1              L Mouratidou           12345       Hamburg     London  \n",
       "2               H Mutschler           12345           PMI        CGN  \n",
       "3            Oliver Numrich           12345  Berlin-Tegel     London  \n",
       "4  Andreas Huettenhoelscher           12345           CGN        LHR  "
      ]
     },
     "execution_count": 388,
     "metadata": {},
     "output_type": "execute_result"
    }
   ],
   "source": [
    "df_review.head()"
   ]
  },
  {
   "cell_type": "code",
   "execution_count": 389,
   "metadata": {},
   "outputs": [
    {
     "name": "stdout",
     "output_type": "stream",
     "text": [
      "<class 'pandas.core.frame.DataFrame'>\n",
      "RangeIndex: 127 entries, 0 to 126\n",
      "Data columns (total 17 columns):\n",
      "Cabin Flown            127 non-null object\n",
      "Cabin Staff Service    127 non-null object\n",
      "Country                127 non-null object\n",
      "Date                   127 non-null object\n",
      "Date Flown             127 non-null object\n",
      "Ground Service         127 non-null object\n",
      "Rating                 114 non-null float64\n",
      "Recommended            127 non-null object\n",
      "Review                 127 non-null object\n",
      "Route                  127 non-null object\n",
      "Seat Comfort           127 non-null object\n",
      "Title                  127 non-null object\n",
      "Type Of Traveller      127 non-null object\n",
      "User Name              127 non-null object\n",
      "Value For Money        127 non-null object\n",
      "Route From             127 non-null object\n",
      "Route To               127 non-null object\n",
      "dtypes: float64(1), object(16)\n",
      "memory usage: 16.9+ KB\n"
     ]
    }
   ],
   "source": [
    "df_review.info()"
   ]
  },
  {
   "cell_type": "code",
   "execution_count": 390,
   "metadata": {},
   "outputs": [
    {
     "data": {
      "text/plain": [
       "(127, 17)"
      ]
     },
     "execution_count": 390,
     "metadata": {},
     "output_type": "execute_result"
    }
   ],
   "source": [
    "df_review.shape"
   ]
  },
  {
   "cell_type": "markdown",
   "metadata": {},
   "source": [
    "### 2.1 Analyse target 'Recommended' "
   ]
  },
  {
   "cell_type": "code",
   "execution_count": 391,
   "metadata": {},
   "outputs": [
    {
     "data": {
      "text/plain": [
       "count     127\n",
       "unique      2\n",
       "top        no\n",
       "freq       65\n",
       "Name: Recommended, dtype: object"
      ]
     },
     "execution_count": 391,
     "metadata": {},
     "output_type": "execute_result"
    }
   ],
   "source": [
    "df_review['Recommended'].describe()"
   ]
  },
  {
   "cell_type": "code",
   "execution_count": 392,
   "metadata": {},
   "outputs": [
    {
     "data": {
      "text/plain": [
       "array(['no', 'yes'], dtype=object)"
      ]
     },
     "execution_count": 392,
     "metadata": {},
     "output_type": "execute_result"
    }
   ],
   "source": [
    "df_review['Recommended'].unique()"
   ]
  },
  {
   "cell_type": "code",
   "execution_count": 393,
   "metadata": {},
   "outputs": [
    {
     "data": {
      "text/plain": [
       "0"
      ]
     },
     "execution_count": 393,
     "metadata": {},
     "output_type": "execute_result"
    }
   ],
   "source": [
    "df_review['Recommended'].isnull().sum()"
   ]
  },
  {
   "cell_type": "code",
   "execution_count": 394,
   "metadata": {
    "collapsed": true
   },
   "outputs": [],
   "source": [
    "# Transfer string into integer\n",
    "lbl_enc = preprocessing.LabelEncoder()\n",
    "df_review['Recommended Label'] = lbl_enc.fit_transform(df_review['Recommended'].values)"
   ]
  },
  {
   "cell_type": "code",
   "execution_count": 395,
   "metadata": {},
   "outputs": [
    {
     "data": {
      "text/plain": [
       "<matplotlib.axes._subplots.AxesSubplot at 0x1a3f544400>"
      ]
     },
     "execution_count": 395,
     "metadata": {},
     "output_type": "execute_result"
    },
    {
     "data": {
      "image/png": "[encoded data removed]",
      "text/plain": [
       "<matplotlib.figure.Figure at 0x1a3f544b38>"
      ]
     },
     "metadata": {},
     "output_type": "display_data"
    }
   ],
   "source": [
    "sns.distplot(df_review['Recommended Label'])"
   ]
  },
  {
   "cell_type": "code",
   "execution_count": 396,
   "metadata": {},
   "outputs": [
    {
     "data": {
      "text/plain": [
       "(62, 18)"
      ]
     },
     "execution_count": 396,
     "metadata": {},
     "output_type": "execute_result"
    }
   ],
   "source": [
    "df_review[df_review['Recommended Label'] == 1].shape"
   ]
  },
  {
   "cell_type": "code",
   "execution_count": 397,
   "metadata": {},
   "outputs": [
    {
     "data": {
      "text/plain": [
       "(65, 18)"
      ]
     },
     "execution_count": 397,
     "metadata": {},
     "output_type": "execute_result"
    }
   ],
   "source": [
    "df_review[df_review['Recommended Label'] == 0].shape"
   ]
  },
  {
   "cell_type": "markdown",
   "metadata": {},
   "source": [
    "It shows the data of two classes is balanced."
   ]
  },
  {
   "cell_type": "markdown",
   "metadata": {},
   "source": [
    "### 2.2 Analyse target 'Rating' "
   ]
  },
  {
   "cell_type": "code",
   "execution_count": 398,
   "metadata": {},
   "outputs": [
    {
     "data": {
      "text/plain": [
       "count    114.000000\n",
       "mean       5.587719\n",
       "std        2.874395\n",
       "min        1.000000\n",
       "25%        3.000000\n",
       "50%        5.000000\n",
       "75%        8.000000\n",
       "max       10.000000\n",
       "Name: Rating, dtype: float64"
      ]
     },
     "execution_count": 398,
     "metadata": {},
     "output_type": "execute_result"
    }
   ],
   "source": [
    "df_review['Rating'].describe()"
   ]
  },
  {
   "cell_type": "code",
   "execution_count": 399,
   "metadata": {},
   "outputs": [
    {
     "data": {
      "text/plain": [
       "13"
      ]
     },
     "execution_count": 399,
     "metadata": {},
     "output_type": "execute_result"
    }
   ],
   "source": [
    "df_review['Rating'].isnull().sum()"
   ]
  },
  {
   "cell_type": "code",
   "execution_count": 400,
   "metadata": {},
   "outputs": [
    {
     "data": {
      "text/plain": [
       "(114, 18)"
      ]
     },
     "execution_count": 400,
     "metadata": {},
     "output_type": "execute_result"
    }
   ],
   "source": [
    "df_review[df_review['Rating'].notnull()].shape"
   ]
  },
  {
   "cell_type": "code",
   "execution_count": 401,
   "metadata": {},
   "outputs": [
    {
     "data": {
      "text/plain": [
       "(127, 18)"
      ]
     },
     "execution_count": 401,
     "metadata": {},
     "output_type": "execute_result"
    }
   ],
   "source": [
    "df_review.shape"
   ]
  },
  {
   "cell_type": "code",
   "execution_count": 402,
   "metadata": {},
   "outputs": [
    {
     "data": {
      "text/plain": [
       "<matplotlib.axes._subplots.AxesSubplot at 0x1a3f4d1860>"
      ]
     },
     "execution_count": 402,
     "metadata": {},
     "output_type": "execute_result"
    },
    {
     "data": {
      "image/png": "[encoded data removed]",
      "text/plain": [
       "<matplotlib.figure.Figure at 0x1a3f578198>"
      ]
     },
     "metadata": {},
     "output_type": "display_data"
    }
   ],
   "source": [
    "sns.distplot(df_review[df_review['Rating'].notnull()]['Rating'])"
   ]
  },
  {
   "cell_type": "code",
   "execution_count": null,
   "metadata": {
    "collapsed": true
   },
   "outputs": [],
   "source": []
  },
  {
   "cell_type": "markdown",
   "metadata": {},
   "source": [
    "### 2.3 Analyse Missing Numerical Data"
   ]
  },
  {
   "cell_type": "code",
   "execution_count": 403,
   "metadata": {},
   "outputs": [
    {
     "data": {
      "text/html": [
       "<div>\n",
       "<style>\n",
       "    .dataframe thead tr:only-child th {\n",
       "        text-align: right;\n",
       "    }\n",
       "\n",
       "    .dataframe thead th {\n",
       "        text-align: left;\n",
       "    }\n",
       "\n",
       "    .dataframe tbody tr th {\n",
       "        vertical-align: top;\n",
       "    }\n",
       "</style>\n",
       "<table border=\"1\" class=\"dataframe\">\n",
       "  <thead>\n",
       "    <tr style=\"text-align: right;\">\n",
       "      <th></th>\n",
       "      <th>Total</th>\n",
       "      <th>Percent</th>\n",
       "    </tr>\n",
       "  </thead>\n",
       "  <tbody>\n",
       "    <tr>\n",
       "      <th>Rating</th>\n",
       "      <td>13</td>\n",
       "      <td>0.114035</td>\n",
       "    </tr>\n",
       "    <tr>\n",
       "      <th>Recommended Label</th>\n",
       "      <td>0</td>\n",
       "      <td>0.000000</td>\n",
       "    </tr>\n",
       "    <tr>\n",
       "      <th>Route To</th>\n",
       "      <td>0</td>\n",
       "      <td>0.000000</td>\n",
       "    </tr>\n",
       "    <tr>\n",
       "      <th>Cabin Staff Service</th>\n",
       "      <td>0</td>\n",
       "      <td>0.000000</td>\n",
       "    </tr>\n",
       "    <tr>\n",
       "      <th>Country</th>\n",
       "      <td>0</td>\n",
       "      <td>0.000000</td>\n",
       "    </tr>\n",
       "    <tr>\n",
       "      <th>Date</th>\n",
       "      <td>0</td>\n",
       "      <td>0.000000</td>\n",
       "    </tr>\n",
       "    <tr>\n",
       "      <th>Date Flown</th>\n",
       "      <td>0</td>\n",
       "      <td>0.000000</td>\n",
       "    </tr>\n",
       "    <tr>\n",
       "      <th>Ground Service</th>\n",
       "      <td>0</td>\n",
       "      <td>0.000000</td>\n",
       "    </tr>\n",
       "    <tr>\n",
       "      <th>Recommended</th>\n",
       "      <td>0</td>\n",
       "      <td>0.000000</td>\n",
       "    </tr>\n",
       "    <tr>\n",
       "      <th>Review</th>\n",
       "      <td>0</td>\n",
       "      <td>0.000000</td>\n",
       "    </tr>\n",
       "    <tr>\n",
       "      <th>Route</th>\n",
       "      <td>0</td>\n",
       "      <td>0.000000</td>\n",
       "    </tr>\n",
       "    <tr>\n",
       "      <th>Seat Comfort</th>\n",
       "      <td>0</td>\n",
       "      <td>0.000000</td>\n",
       "    </tr>\n",
       "    <tr>\n",
       "      <th>Title</th>\n",
       "      <td>0</td>\n",
       "      <td>0.000000</td>\n",
       "    </tr>\n",
       "    <tr>\n",
       "      <th>Type Of Traveller</th>\n",
       "      <td>0</td>\n",
       "      <td>0.000000</td>\n",
       "    </tr>\n",
       "    <tr>\n",
       "      <th>User Name</th>\n",
       "      <td>0</td>\n",
       "      <td>0.000000</td>\n",
       "    </tr>\n",
       "    <tr>\n",
       "      <th>Value For Money</th>\n",
       "      <td>0</td>\n",
       "      <td>0.000000</td>\n",
       "    </tr>\n",
       "    <tr>\n",
       "      <th>Route From</th>\n",
       "      <td>0</td>\n",
       "      <td>0.000000</td>\n",
       "    </tr>\n",
       "    <tr>\n",
       "      <th>Cabin Flown</th>\n",
       "      <td>0</td>\n",
       "      <td>0.000000</td>\n",
       "    </tr>\n",
       "  </tbody>\n",
       "</table>\n",
       "</div>"
      ],
      "text/plain": [
       "                     Total   Percent\n",
       "Rating                  13  0.114035\n",
       "Recommended Label        0  0.000000\n",
       "Route To                 0  0.000000\n",
       "Cabin Staff Service      0  0.000000\n",
       "Country                  0  0.000000\n",
       "Date                     0  0.000000\n",
       "Date Flown               0  0.000000\n",
       "Ground Service           0  0.000000\n",
       "Recommended              0  0.000000\n",
       "Review                   0  0.000000\n",
       "Route                    0  0.000000\n",
       "Seat Comfort             0  0.000000\n",
       "Title                    0  0.000000\n",
       "Type Of Traveller        0  0.000000\n",
       "User Name                0  0.000000\n",
       "Value For Money          0  0.000000\n",
       "Route From               0  0.000000\n",
       "Cabin Flown              0  0.000000"
      ]
     },
     "execution_count": 403,
     "metadata": {},
     "output_type": "execute_result"
    }
   ],
   "source": [
    "total = df_review.isnull().sum().sort_values(ascending=False)\n",
    "percent = (df_review.isnull().sum()/df_review.count()).sort_values(ascending=False)\n",
    "missing_data = pd.concat([total, percent], axis=1, keys=['Total', 'Percent'])\n",
    "# missing_data.head(20)\n",
    "missing_data"
   ]
  },
  {
   "cell_type": "markdown",
   "metadata": {},
   "source": [
    "It shows that 10% of the customer does not rate the flights."
   ]
  },
  {
   "cell_type": "markdown",
   "metadata": {},
   "source": [
    "### 2.4 Show relationship between 'Recommended' and other variables"
   ]
  },
  {
   "cell_type": "markdown",
   "metadata": {},
   "source": [
    "- Relationship with numerical variables"
   ]
  },
  {
   "cell_type": "code",
   "execution_count": 404,
   "metadata": {
    "collapsed": true
   },
   "outputs": [],
   "source": [
    "def show_relation_numerical(df, var, target):\n",
    "    data = pd.concat([df[target], df[var]], axis=1)\n",
    "    data.plot.scatter(x=var, y=target)"
   ]
  },
  {
   "cell_type": "code",
   "execution_count": 405,
   "metadata": {},
   "outputs": [
    {
     "data": {
      "image/png": "[encoded data removed]",
      "text/plain": [
       "<matplotlib.figure.Figure at 0x1a3f5112e8>"
      ]
     },
     "metadata": {},
     "output_type": "display_data"
    }
   ],
   "source": [
    "num_vars = ['Rating']\n",
    "\n",
    "for num_var in num_vars:\n",
    "    show_relation_numerical(df_review, num_var, 'Recommended Label')"
   ]
  },
  {
   "cell_type": "markdown",
   "metadata": {},
   "source": [
    "It shows that 'Rating' is an important feature to distinguish the target variable 'Recommended'."
   ]
  },
  {
   "cell_type": "markdown",
   "metadata": {},
   "source": [
    "- Relationship with categorical features"
   ]
  },
  {
   "cell_type": "code",
   "execution_count": 406,
   "metadata": {},
   "outputs": [
    {
     "data": {
      "image/png": "[encoded data removed]",
      "text/plain": [
       "<matplotlib.figure.Figure at 0x1a2b8af3c8>"
      ]
     },
     "metadata": {},
     "output_type": "display_data"
    },
    {
     "data": {
      "image/png": "[encoded data removed]",
      "text/plain": [
       "<matplotlib.figure.Figure at 0x1a2b8af550>"
      ]
     },
     "metadata": {},
     "output_type": "display_data"
    },
    {
     "data": {
      "image/png": "[encoded data removed]",
      "text/plain": [
       "<matplotlib.figure.Figure at 0x1a3b0c1b38>"
      ]
     },
     "metadata": {},
     "output_type": "display_data"
    },
    {
     "data": {
      "image/png": "[encoded data removed]",
      "text/plain": [
       "<matplotlib.figure.Figure at 0x1a3f675518>"
      ]
     },
     "metadata": {},
     "output_type": "display_data"
    },
    {
     "data": {
      "image/png": "[encoded data removed]",
      "text/plain": [
       "<matplotlib.figure.Figure at 0x1a3f7ed0f0>"
      ]
     },
     "metadata": {},
     "output_type": "display_data"
    },
    {
     "data": {
      "image/png": "[encoded data removed]",
      "text/plain": [
       "<matplotlib.figure.Figure at 0x1a3f88bb00>"
      ]
     },
     "metadata": {},
     "output_type": "display_data"
    },
    {
     "data": {
      "image/png": "[encoded data removed]",
      "text/plain": [
       "<matplotlib.figure.Figure at 0x1a3f91bf60>"
      ]
     },
     "metadata": {},
     "output_type": "display_data"
    },
    {
     "data": {
      "image/png": "[encoded data removed]",
      "text/plain": [
       "<matplotlib.figure.Figure at 0x1a3f95fd68>"
      ]
     },
     "metadata": {},
     "output_type": "display_data"
    },
    {
     "data": {
      "image/png": "[encoded data removed]",
      "text/plain": [
       "<matplotlib.figure.Figure at 0x1a3f9f34e0>"
      ]
     },
     "metadata": {},
     "output_type": "display_data"
    },
    {
     "data": {
      "image/png": "[encoded data removed]",
      "text/plain": [
       "<matplotlib.figure.Figure at 0x1a3faf0b70>"
      ]
     },
     "metadata": {},
     "output_type": "display_data"
    },
    {
     "data": {
      "image/png": "[encoded data removed]",
      "text/plain": [
       "<matplotlib.figure.Figure at 0x1a3fb39a90>"
      ]
     },
     "metadata": {},
     "output_type": "display_data"
    },
    {
     "data": {
      "image/png": "[encoded data removed]",
      "text/plain": [
       "<matplotlib.figure.Figure at 0x1a3fc0a908>"
      ]
     },
     "metadata": {},
     "output_type": "display_data"
    },
    {
     "data": {
      "image/png": "[encoded data removed]",
      "text/plain": [
       "<matplotlib.figure.Figure at 0x1a3fc2a2e8>"
      ]
     },
     "metadata": {},
     "output_type": "display_data"
    },
    {
     "data": {
      "image/png": "[encoded data removed]",
      "text/plain": [
       "<matplotlib.figure.Figure at 0x1a3fd0b128>"
      ]
     },
     "metadata": {},
     "output_type": "display_data"
    }
   ],
   "source": [
    "cat_vars = ['Country', 'Type Of Traveller', 'Cabin Flown', 'Seat Comfort', 'Cabin Staff Service', 'Ground Service', 'Value For Money']\n",
    "                  \n",
    "# https://stackoverflow.com/questions/28418988/how-to-make-a-histogram-from-a-list-of-strings-in-python\n",
    "def plot_strings(a, title=''):\n",
    "    letter_counts = Counter(a)\n",
    "    df = pd.DataFrame.from_dict(letter_counts, orient='index')\n",
    "    df.plot(kind='bar', title=title)\n",
    "\n",
    "    \n",
    "for cat_var in cat_vars:\n",
    "    df = df_review[df_review['Recommended Label'] == 1][[cat_var]]\n",
    "    plot_strings(df[cat_var].tolist(), title=cat_var+' (recommended = 1)')\n",
    "    \n",
    "    df = df_review[df_review['Recommended Label'] == 0][[cat_var]]\n",
    "    plot_strings(df[cat_var].tolist(), title=cat_var+' (recommended = 0)')\n",
    "    "
   ]
  },
  {
   "cell_type": "markdown",
   "metadata": {},
   "source": [
    "It shows that there is a lot of missing data in the categorical features. The categorical features are not usefull to predict target variable 'Recommended'."
   ]
  },
  {
   "cell_type": "markdown",
   "metadata": {},
   "source": [
    "### 2.5 Text analysis\n",
    "\n",
    "Reference:\n",
    "https://www.kaggle.com/abhishek/approaching-almost-any-nlp-problem-on-kaggle"
   ]
  },
  {
   "cell_type": "markdown",
   "metadata": {},
   "source": [
    "- Title"
   ]
  },
  {
   "cell_type": "code",
   "execution_count": 407,
   "metadata": {},
   "outputs": [
    {
     "data": {
      "text/plain": [
       "array(['they have been unresponsive\\n', 'I was refused some water\\n',\n",
       "       'the service crew were friendly but nothing more\\n',\n",
       "       'no problems or delays, very friendly staff\\n',\n",
       "       \"I don't get why Germanwings is always late\\n\",\n",
       "       'vowing never to book Germanwings again\\n',\n",
       "       'staff friendly - food terrible\\n',\n",
       "       'no explanations, no offers of help\\n',\n",
       "       'delay in Heathrow about 1:30 minutes\\n',\n",
       "       'Germanwings customer review\\n'], dtype=object)"
      ]
     },
     "execution_count": 407,
     "metadata": {},
     "output_type": "execute_result"
    }
   ],
   "source": [
    "df_review['Title'].unique()"
   ]
  },
  {
   "cell_type": "code",
   "execution_count": 408,
   "metadata": {},
   "outputs": [
    {
     "data": {
      "image/png": "[encoded data removed]",
      "text/plain": [
       "<matplotlib.figure.Figure at 0x1a359436d8>"
      ]
     },
     "metadata": {},
     "output_type": "display_data"
    }
   ],
   "source": [
    "plot_strings(df_review['Title'], title='Title')"
   ]
  },
  {
   "cell_type": "markdown",
   "metadata": {},
   "source": [
    "It shows that most of the reviews have the title 'Germanwings customer review'. Therefore, I will not use 'Title' as a feature to predict 'Recommended'"
   ]
  },
  {
   "cell_type": "markdown",
   "metadata": {},
   "source": [
    "- TODO: Review"
   ]
  },
  {
   "cell_type": "code",
   "execution_count": 409,
   "metadata": {
    "collapsed": true
   },
   "outputs": [],
   "source": [
    "df_review[\"Review\"] = df_review[\"Review\"].fillna(\"_na_\").values"
   ]
  },
  {
   "cell_type": "code",
   "execution_count": null,
   "metadata": {
    "collapsed": true
   },
   "outputs": [],
   "source": []
  },
  {
   "cell_type": "markdown",
   "metadata": {},
   "source": [
    "## 3. Modelling"
   ]
  },
  {
   "cell_type": "markdown",
   "metadata": {},
   "source": [
    "The recommendation problem is formulated into a binary classification problem, i.e., classify the text data (review) into recommended and non-recommended."
   ]
  },
  {
   "cell_type": "markdown",
   "metadata": {},
   "source": [
    "- Define evaluation metric\n",
    "Kaggle has specified multi-class log-loss as evaluation metric. \n",
    "This is implemented in the follow way \n",
    "taken from: \n",
    "https://github.com/dnouri/nolearn/blob/master/nolearn/lasagne/util.py)\n",
    "https://www.kaggle.com/abhishek/approaching-almost-any-nlp-problem-on-kaggle"
   ]
  },
  {
   "cell_type": "code",
   "execution_count": 410,
   "metadata": {
    "collapsed": true
   },
   "outputs": [],
   "source": [
    "def multiclass_logloss(actual, predicted, eps=1e-15):\n",
    "    \"\"\"Multi class version of Logarithmic Loss metric.\n",
    "    :param actual: Array containing the actual target classes\n",
    "    :param predicted: Matrix with class predictions, one probability per class\n",
    "    \"\"\"\n",
    "    # Convert 'actual' to a binary array if it's not already:\n",
    "    if len(actual.shape) == 1:\n",
    "        actual2 = np.zeros((actual.shape[0], predicted.shape[1]))\n",
    "        for i, val in enumerate(actual):\n",
    "            actual2[i, val] = 1\n",
    "        actual = actual2\n",
    "\n",
    "    clip = np.clip(predicted, eps, 1 - eps)\n",
    "    rows = actual.shape[0]\n",
    "    vsota = np.sum(actual * np.log(clip))\n",
    "    return -1.0 / rows * vsota"
   ]
  },
  {
   "cell_type": "markdown",
   "metadata": {},
   "source": [
    "- Plot precision recall curve\n",
    "\n",
    "https://scikit-learn.org/stable/auto_examples/model_selection/plot_precision_recall.html#sphx-glr-auto-examples-model-selection-plot-precision-recall-py"
   ]
  },
  {
   "cell_type": "code",
   "execution_count": 411,
   "metadata": {
    "collapsed": true
   },
   "outputs": [],
   "source": [
    "def plot_pr_curve(y_test, y_score, model_name, features):\n",
    "    average_precision = average_precision_score(y_test, y_score)\n",
    "    \n",
    "    #print('Average precision-recall score: {0:0.2f}'.format(average_precision))\n",
    "\n",
    "    precision, recall, _ = precision_recall_curve(y_test, y_score)\n",
    "    \n",
    "    # In matplotlib < 1.5, plt.fill_between does not have a 'step' argument\n",
    "    step_kwargs = ({'step': 'post'}\n",
    "                   if 'step' in signature(plt.fill_between).parameters\n",
    "                   else {})\n",
    "    \n",
    "    plt.step(recall, precision, color='b', alpha=0.2, where='post')\n",
    "    plt.fill_between(recall, precision, alpha=0.2, color='b', **step_kwargs)\n",
    "    plt.title('2-class Precision-Recall curve: AP={0:0.2f}, model={1}, features={2}'.format(average_precision, \n",
    "                                                                                           model_name,\n",
    "                                                                                           features\n",
    "                                                                                          ))\n",
    "    plt.xlabel('Recall')\n",
    "    plt.ylabel('Precision')\n",
    "    plt.ylim([0.0, 1.05])\n",
    "    plt.xlim([0.0, 1.0])"
   ]
  },
  {
   "cell_type": "markdown",
   "metadata": {},
   "source": [
    "- Plot AUC curve\n",
    "\n",
    "https://scikit-learn.org/stable/auto_examples/model_selection/plot_roc.html\n",
    "\n",
    "https://qiita.com/bmj0114/items/460424c110a8ce22d945"
   ]
  },
  {
   "cell_type": "code",
   "execution_count": 412,
   "metadata": {
    "collapsed": true
   },
   "outputs": [],
   "source": [
    "def plot_auc_curve(y_test, y_score, model_name, features):\n",
    "    fpr, tpr, thresholds = roc_curve(y_test, y_score)\n",
    "    score = roc_auc_score(y_test, y_score)\n",
    "    roc_auc = auc(fpr, tpr)\n",
    "    plt.figure()\n",
    "    plt.plot(fpr, tpr, color='darkorange', label='ROC curve (area = %0.2f)' % roc_auc)\n",
    "    plt.plot([0, 1], [0, 1], color='navy', linestyle='--')\n",
    "    plt.xlim([0.0, 1.0])\n",
    "    plt.ylim([0.0, 1.05])\n",
    "    plt.xlabel('False Positive Rate')\n",
    "    plt.ylabel('True Positive Rate')\n",
    "    plt.title('Receiver operating characteristic: ROC_AUC_Score={0:0.2f}, model={1}, features={2}'.format(score, \n",
    "                                                                                                          model_name,\n",
    "                                                                                                          features\n",
    "                                                                                                         ))\n",
    "    plt.legend(loc=\"lower right\")\n",
    "    plt.show()"
   ]
  },
  {
   "cell_type": "markdown",
   "metadata": {},
   "source": [
    "- Prepare data sets"
   ]
  },
  {
   "cell_type": "code",
   "execution_count": 413,
   "metadata": {
    "collapsed": true
   },
   "outputs": [],
   "source": [
    "y = df_review['Recommended Label']"
   ]
  },
  {
   "cell_type": "code",
   "execution_count": 414,
   "metadata": {
    "collapsed": true
   },
   "outputs": [],
   "source": [
    "xtrain, xvalid, ytrain, yvalid = train_test_split(df_review['Review'].values, \n",
    "                                                  y, \n",
    "                                                  stratify=y, \n",
    "                                                  random_state=42, \n",
    "                                                  test_size=0.2, \n",
    "                                                  shuffle=True)"
   ]
  },
  {
   "cell_type": "code",
   "execution_count": 415,
   "metadata": {},
   "outputs": [
    {
     "name": "stdout",
     "output_type": "stream",
     "text": [
      "(101,)\n",
      "(26,)\n"
     ]
    }
   ],
   "source": [
    "print (xtrain.shape)\n",
    "print (xvalid.shape)"
   ]
  },
  {
   "cell_type": "markdown",
   "metadata": {},
   "source": [
    "- #### TF-IDF\n",
    "The first model is a TF-IDF (Term Frequency - Inverse Document Frequency) followed by a simple Logistic Regression."
   ]
  },
  {
   "cell_type": "code",
   "execution_count": 416,
   "metadata": {
    "collapsed": true
   },
   "outputs": [],
   "source": [
    "tfv = TfidfVectorizer(min_df=3,  \n",
    "                      max_features=None, \n",
    "                      strip_accents='unicode', \n",
    "                      analyzer='word',\n",
    "                      token_pattern=r'\\w{1,}',\n",
    "                      ngram_range=(1, 3), \n",
    "                      use_idf=1,\n",
    "                      smooth_idf=1,\n",
    "                      sublinear_tf=1,\n",
    "                      stop_words = 'english',\n",
    "                     )\n",
    "\n",
    "# Fitting TF-IDF to both training and test sets (semi-supervised learning)\n",
    "tfv.fit(list(xtrain) + list(xvalid))\n",
    "xtrain_tfv =  tfv.transform(xtrain) \n",
    "xvalid_tfv = tfv.transform(xvalid)"
   ]
  },
  {
   "cell_type": "code",
   "execution_count": 417,
   "metadata": {
    "collapsed": true
   },
   "outputs": [],
   "source": [
    "# Fitting a simple Logistic Regression on TFIDF\n",
    "clf = LogisticRegression()\n",
    "clf.fit(xtrain_tfv, ytrain)\n",
    "predictions = clf.predict_proba(xvalid_tfv)\n",
    "ypred = clf.predict(xvalid_tfv)"
   ]
  },
  {
   "cell_type": "markdown",
   "metadata": {},
   "source": [
    "- #### Logloss\n",
    "\n",
    "For a binary classification like our example, the typical loss function is the binary cross-entropy / log loss.\n",
    "\n",
    "$$H_p(q) = - \\frac{1}{N} \\sum_{i=1}^{N} y_i \\times log(p(y_i)) + (1-y_i) \\times log(1-p(y_i))$$\n",
    "\n",
    "Neural networks are trained using stochastic gradient descent and require that you choose a loss function when designing and configuring your model.\n",
    "\n",
    "Given input, the model is trying to make predictions that match the data distribution of the target variable. Under maximum likelihood, a loss function estimates how closely the distribution of predictions made by a model matches the distribution of target variables in the training data.\n",
    "\n",
    "**Cross-Entropy Loss** (or Log Loss)\n",
    "\n",
    "Cross-entropy loss is often simply referred to as “cross-entropy,” “logarithmic loss,” “logistic loss,” or “log loss” for short.\n",
    "\n",
    "Each predicted probability is compared to the actual class output value (0 or 1) and a score is calculated that penalizes the probability based on the distance from the expected value. The penalty is logarithmic, offering a small score for small differences (0.1 or 0.2) and enormous score for a large difference (0.9 or 1.0).\n",
    "\n",
    "Cross-entropy loss is minimized, where smaller values represent a better model than larger values. A model that predicts perfect probabilities has a cross entropy or log loss of 0.0.\n",
    "\n",
    "Cross-entropy for a binary or two class prediction problem is actually calculated as the average cross entropy across all examples.\n",
    "\n",
    "Given a framework of maximum likelihood, we know that we want to use a cross-entropy or mean squared error loss function under stochastic gradient descent.\n",
    "\n",
    "Nevertheless, we may or may not want to report the performance of the model using the loss function.\n",
    "\n",
    "For example, logarithmic loss is challenging to interpret, especially for non-machine learning practitioner stakeholders. The same can be said for the mean squared error. Instead, it may be more important to report the accuracy and root mean squared error for models used for classification and regression respectively.\n",
    "\n",
    "It may also be desirable to choose models based on these metrics instead of loss. This is an important consideration, as the model with the minimum loss may not be the model with best metric that is important to project stakeholders.\n",
    "\n",
    "A good division to consider is to use the loss to evaluate and diagnose how well the model is learning. This includes all of the considerations of the optimization process, such as overfitting, underfitting, and convergence. An alternate metric can then be chosen that has meaning to the project stakeholders to both evaluate model performance and perform model selection.\n",
    "\n",
    "The same metric can be used for both concerns but it is more likely that the concerns of the optimization process will differ from the goals of the project and different scores will be required. Nevertheless, it is often the case that improving the loss improves or, at worst, has no effect on the metric of interest.\n",
    "\n",
    "\n",
    "**Reference**\n",
    "\n",
    "https://towardsdatascience.com/understanding-binary-cross-entropy-log-loss-a-visual-explanation-a3ac6025181a\n",
    "\n",
    "https://medium.com/30-days-of-machine-learning/day-5-entropy-relative-entropy-and-cross-entropy-8369d67cc180\n",
    "\n",
    "https://machinelearningmastery.com/loss-and-loss-functions-for-training-deep-learning-neural-networks/"
   ]
  },
  {
   "cell_type": "code",
   "execution_count": 418,
   "metadata": {},
   "outputs": [
    {
     "name": "stdout",
     "output_type": "stream",
     "text": [
      "logloss: 0.611 \n"
     ]
    }
   ],
   "source": [
    "print (\"logloss: %0.3f \" % multiclass_logloss(yvalid, predictions))"
   ]
  },
  {
   "cell_type": "markdown",
   "metadata": {},
   "source": [
    "- #### Precision Recall curve\n",
    "\n",
    "    - Precision-Recall curves summarize the trade-off between the **true positive rate** and the **positive predictive value** for a predictive model using different probability thresholds.\n",
    "    - Precision-Recall curves are appropriate for imbalanced datasets, whereas ROC curves are appropriate when the observations are balanced between each class.\n",
    "\n",
    "**Precision** is a ratio of the number of true positives divided by the sum of the true positives and false positives. It describes how good a model is at predicting the positive class. Precision is referred to as the positive predictive value.\n",
    "\n",
    "$${Precision} = \\frac{True Positives} {(True Positives + False Positives)}$$\n",
    "\n",
    "**Recall** is calculated as the ratio of the number of true positives divided by the sum of the true positives and the false negatives. Recall is the same as sensitivity.\n",
    "\n",
    "$${Recall} = \\frac{True Positives} {(True Positives + False Negatives)}$$\n",
    "\n",
    "Reviewing both precision and recall is useful in cases where there is an imbalance in the observations between the two classes. Specifically, there are many examples of no event (class 0) and only a few examples of an event (class 1).\n",
    "\n",
    "The reason for this is that typically the large number of class 0 examples means we are less interested in the skill of the model at predicting class 0 correctly, e.g. high true negatives.\n",
    "\n",
    "There are also composite scores that attempt to summarize the precision and recall; three examples include:\n",
    "\n",
    "- **F score** or **F1 score**: that calculates the harmonic mean of the precision and recall (harmonic mean because the precision and recall are ratios).\n",
    "\n",
    "- **Average precision**: that summarizes the weighted increase in precision with each change in recall for the thresholds in the precision-recall curve.\n",
    "\n",
    "- **Area Under Curve**: like the AUC, summarizes the integral or an approximation of the area under the precision-recall curve.\n",
    "\n",
    "In terms of model selection, F1 summarizes model skill for a specific probability threshold, whereas average precision and area under curve summarize the skill of a model across thresholds, like ROC AUC.\n",
    "\n",
    "This makes precision-recall and a plot of precision vs. recall and summary measures useful tools for binary classification problems that have an imbalance in the observations for each class.\n",
    "\n",
    "The above explaination of Precision and Recall is taken from\n",
    "\n",
    "https://machinelearningmastery.com/roc-curves-and-precision-recall-curves-for-classification-in-python/\n",
    "\n"
   ]
  },
  {
   "cell_type": "code",
   "execution_count": 419,
   "metadata": {},
   "outputs": [
    {
     "data": {
      "image/png": "[encoded data removed]",
      "text/plain": [
       "<matplotlib.figure.Figure at 0x1a29cd2908>"
      ]
     },
     "metadata": {},
     "output_type": "display_data"
    }
   ],
   "source": [
    "plot_pr_curve(yvalid, predictions[:, 1], model_name='logistic regression', features='TF-IDF')"
   ]
  },
  {
   "cell_type": "code",
   "execution_count": 420,
   "metadata": {},
   "outputs": [
    {
     "name": "stdout",
     "output_type": "stream",
     "text": [
      "             precision    recall  f1-score   support\n",
      "\n",
      "          0       0.75      0.69      0.72        13\n",
      "          1       0.71      0.77      0.74        13\n",
      "\n",
      "avg / total       0.73      0.73      0.73        26\n",
      "\n"
     ]
    }
   ],
   "source": [
    "print(classification_report(yvalid.values, ypred))"
   ]
  },
  {
   "cell_type": "markdown",
   "metadata": {},
   "source": [
    "- #### ROC curve\n",
    "\n",
    "    - ROC Curves summarize the trade-off between the **true positive rate** and **false positive rate** for a predictive model using different probability thresholds.\n",
    "    \n",
    "    - ROC curves are appropriate when the observations are balanced between each class, whereas precision-recall curves are appropriate for imbalanced datasets.\n",
    "    \n",
    "$${True Positive Rate} = \\frac{True Positives} {(True Positives + False Negatives)}$$\n",
    "The true positive rate is also referred to as sensitivity.\n",
    "\n",
    "$${False Positive Rate} = \\frac{False Positives} {(False Positives + True Negatives)}$$\n",
    "\n",
    "The false positive rate is also referred to as the inverted specificity where specificity is the total number of true negatives divided by the sum of the number of true negatives and false positives.\n",
    "\n",
    "$${Specificity} = \\frac{True Negatives} {(True Negatives + False Positives)}$$\n",
    "\n",
    "$${False Positive Rate} = 1 - {Specificity}$$\n",
    "\n",
    "The ROC curve is a useful tool for a few reasons:\n",
    "\n",
    "- The curves of different models can be compared directly in general or for different thresholds.\n",
    "- The area under the curve (AUC) can be used as a summary of the model skill.\n",
    "\n",
    "\n",
    "https://machinelearningmastery.com/roc-curves-and-precision-recall-curves-for-classification-in-python/"
   ]
  },
  {
   "cell_type": "code",
   "execution_count": 421,
   "metadata": {},
   "outputs": [
    {
     "data": {
      "image/png": "[encoded data removed]",
      "text/plain": [
       "<matplotlib.figure.Figure at 0x1a3c569d68>"
      ]
     },
     "metadata": {},
     "output_type": "display_data"
    }
   ],
   "source": [
    "plot_auc_curve(yvalid, predictions[:, 1], model_name='logistic regression',  features='TF-IDF')"
   ]
  },
  {
   "cell_type": "code",
   "execution_count": 422,
   "metadata": {},
   "outputs": [
    {
     "data": {
      "text/plain": [
       "0.8461538461538461"
      ]
     },
     "execution_count": 422,
     "metadata": {},
     "output_type": "execute_result"
    }
   ],
   "source": [
    "roc_auc_score(yvalid, predictions[:, 1])"
   ]
  },
  {
   "cell_type": "code",
   "execution_count": null,
   "metadata": {
    "collapsed": true
   },
   "outputs": [],
   "source": []
  },
  {
   "cell_type": "markdown",
   "metadata": {},
   "source": [
    "- Error analysis"
   ]
  },
  {
   "cell_type": "code",
   "execution_count": 423,
   "metadata": {
    "collapsed": true
   },
   "outputs": [],
   "source": [
    "def get_error_pred(yvalid, ypred):\n",
    "    \"\"\"\n",
    "    Generate a dataframe contains the missclassified data\n",
    "    \"\"\"\n",
    "    index_error = yvalid != ypred\n",
    "    x_error = xvalid[index_error]\n",
    "    ytrue_error = yvalid[index_error].values\n",
    "    ypred_error = ypred[index_error]\n",
    "    \n",
    "    df_error = pd.DataFrame({'x':x_error, 'y_true':ytrue_error, 'y_pred':ypred_error})\n",
    "    \n",
    "    return df_error"
   ]
  },
  {
   "cell_type": "code",
   "execution_count": 424,
   "metadata": {
    "collapsed": true
   },
   "outputs": [],
   "source": [
    "df_error = get_error_pred(yvalid, ypred)"
   ]
  },
  {
   "cell_type": "code",
   "execution_count": 425,
   "metadata": {},
   "outputs": [
    {
     "name": "stdout",
     "output_type": "stream",
     "text": [
      "index: 0\n",
      "Booked Lufthansa flight Cologne-Berlin on 28 Jan. On 2 Jan I got the information that the flight was operated by Germanwings a German low-cost carrier. So was the flight. Low cost: 1 hrs delayed for my beer I had to pay in Euros - cash. Lounge use was denied as the flight was operated under 4U code. No service for a high Lufthansa price. Not recommended very disappointed.\n",
      "true label: 0\n",
      "\n",
      "\n",
      "index: 1\n",
      "First time I have used Germanwings for connecting flights (via Hamburg). The APP does not work properly. They are unable to issue both boarding cards on check in causing unnecessary inconvenience. Their Live Twitter response averages 24 hours to reply. Cabin crew spend most time behind front galley curtains. Also fail to do proper cabin secure checks prior to landing. Seats new ultra thin models OK for short flights. Seat pitch OK on the extra space seats. Smart fare snack boring and repetitive. They have taken over a lot of Lufthansa routes and to be honest they are not really geared up for it. Poor ground handling and communications.\n",
      "true label: 0\n",
      "\n",
      "\n",
      "index: 2\n",
      "On a recent trip from Stuttgart to Stansted I had the window seat in a row which was also occupied by a young mother and her four or five year old daughter. The minor took the seat next to me. Once we had achieved cruising altitude the mother produced an iPad from her bag and placed it on the table in front of the child. Then without the slightest consideration for their fellow passengers a Mickey Mouse movie was run with the soundtrack coming to all in earshot over the speakers. Since it was a reasonably short flight I plugged my own headphones in a did my best to ignore the cartoon. Now that such technology is available I think it might be high time for Germanwings to regulate such behavior. Obviously a sense of social responsibility is no longer sufficient. Germanwings usually provides a decent service it would be a shame if they allow selfishly ignorant passengers to spoil it.\n",
      "true label: 1\n",
      "\n",
      "\n",
      "index: 3\n",
      "DUB to CGN first time flying with GermanWings. Friendly efficient (and thus precisely punctual). GW allowed us to pool our 20kg/person checked-baggage limit across the five passengers on the reservation so we didn't have to scramble to get one of the bags down from 22 to 20 kg. I also like that you can pay 20 in advance for a bag up to 30kg rather than get burned at the airport like Ryanair. Seat pitch a bit cramped but that's standard for budget flights; it wasn't a long flight so I wasn't uncomfortable. Didn't seem possible fully to match the better bargains on Easyjet or Aer Lingus but price was still very good. Tip: Join My German Wings before you book a flight or else as one post noted you can't check or change your booking on line.\n",
      "true label: 0\n",
      "\n",
      "\n",
      "index: 4\n",
      "Flew Best Class from Hamburg to Cologne. Best is not business but it is a best Germanwings has to offer. You sit in row 1 to 3 and the middle seat is free so there is maximum of 12 travellers. You have access to LH lounge which is full in Hamburg Airport. There is a choice of finger food salat nuts and gummibears as well as hot and cold drinks beer wine and spirits. Boarding with priority. Was a little surprised by the food you get on board you can choose from the Germanwings card whatever you want for free if it is loaded. The best thing was the flight attendant who was nice and very friendly. She addressed everybody by name and was professional. At Cologne it took ages again until baggage arrived so no priority for our bags. This was my first Best-Class with Germanwings would fly them in this class again but I do prefer LH instead if it is possible.\n",
      "true label: 1\n",
      "\n",
      "\n",
      "index: 5\n",
      "STN-CGN. Delayed 30 minutes with no reason or apology given. Flight completely full with boarding well organised if somewhat slow. Due to high load locker space at premium so some passengers ended up sitting with big trolley bags under the aisle seat blocking the other passengers' exit. This went unnoticed and/or challenged by the cabin crew. Leg room poor towards the rear seats reasonable comfortable. Crew not very polite at all impossible to get smile out of them but reasonable efficient. Didn't buy anything from their menu prices seamed reasonable. The only reason I would recommend Germanwings is if the ticket is cheap and due to the fact you can collect miles for LH Miles and More programme.\n",
      "true label: 1\n",
      "\n",
      "\n",
      "index: 6\n",
      "SXF-STR-SXF. Quite good for a budget airline with the usual negatives (boarding via bus and outdoor stairs in the freezing cold drinks and meals cost extra pretty tight seat pitch) but friendly and efficient service fairly new planes incredibly cheap airfares (we paid about 40 Euros return from Berlin to Stuttgart) and both flights on time. Nothing fancy but nothing too bad either.\n",
      "true label: 0\n",
      "\n",
      "\n"
     ]
    }
   ],
   "source": [
    "for index, row in df_error.iterrows():\n",
    "    print('index: {}'.format(index))\n",
    "    print(row['x'])\n",
    "    print('true label: {}'.format(row['y_true']))\n",
    "    print('\\n')"
   ]
  },
  {
   "cell_type": "markdown",
   "metadata": {},
   "source": [
    "Review 2 is not clear for me it was positive or negative.\n",
    "\n",
    "Reviews 4, 5 has some pros and cons.\n",
    "\n",
    "Reviews 3, 6 could be neutral."
   ]
  },
  {
   "cell_type": "code",
   "execution_count": null,
   "metadata": {
    "collapsed": true
   },
   "outputs": [],
   "source": []
  },
  {
   "cell_type": "markdown",
   "metadata": {},
   "source": [
    "- #### Count Features\n",
    "\n",
    "Instead of using TF-IDF, we can also use word counts as features. This can be done easily using CountVectorizer from scikit-learn."
   ]
  },
  {
   "cell_type": "code",
   "execution_count": 426,
   "metadata": {
    "collapsed": true
   },
   "outputs": [],
   "source": [
    "ctv = CountVectorizer(analyzer='word',\n",
    "                      token_pattern=r'\\w{1,}',\n",
    "                      ngram_range=(1, 3), \n",
    "                      stop_words = 'english'\n",
    "                     )\n",
    "\n",
    "# Fitting Count Vectorizer to both training and test sets (semi-supervised learning)\n",
    "ctv.fit(list(xtrain) + list(xvalid))\n",
    "\n",
    "xtrain_ctv =  ctv.transform(xtrain) \n",
    "xvalid_ctv = ctv.transform(xvalid)"
   ]
  },
  {
   "cell_type": "code",
   "execution_count": 427,
   "metadata": {
    "collapsed": true
   },
   "outputs": [],
   "source": [
    "# Fitting a simple Logistic Regression on Counts\n",
    "clf = LogisticRegression()\n",
    "clf.fit(xtrain_ctv, ytrain)\n",
    "\n",
    "predictions = clf.predict_proba(xvalid_ctv)\n",
    "ypred = clf.predict(xvalid_ctv)"
   ]
  },
  {
   "cell_type": "code",
   "execution_count": 428,
   "metadata": {},
   "outputs": [
    {
     "name": "stdout",
     "output_type": "stream",
     "text": [
      "logloss: 0.553 \n"
     ]
    }
   ],
   "source": [
    "print (\"logloss: %0.3f \" % multiclass_logloss(yvalid, predictions))"
   ]
  },
  {
   "cell_type": "code",
   "execution_count": 429,
   "metadata": {},
   "outputs": [
    {
     "data": {
      "image/png": "[encoded data removed]",
      "text/plain": [
       "<matplotlib.figure.Figure at 0x1a405b5a90>"
      ]
     },
     "metadata": {},
     "output_type": "display_data"
    }
   ],
   "source": [
    "plot_pr_curve(yvalid, predictions[:, 1], model_name='logistic regression', features='count features')"
   ]
  },
  {
   "cell_type": "code",
   "execution_count": 430,
   "metadata": {},
   "outputs": [
    {
     "name": "stdout",
     "output_type": "stream",
     "text": [
      "             precision    recall  f1-score   support\n",
      "\n",
      "          0       0.70      0.54      0.61        13\n",
      "          1       0.62      0.77      0.69        13\n",
      "\n",
      "avg / total       0.66      0.65      0.65        26\n",
      "\n"
     ]
    }
   ],
   "source": [
    "print(classification_report(yvalid.values, ypred))"
   ]
  },
  {
   "cell_type": "code",
   "execution_count": 431,
   "metadata": {},
   "outputs": [
    {
     "data": {
      "image/png": "[encoded data removed]",
      "text/plain": [
       "<matplotlib.figure.Figure at 0x1a3e4cfa20>"
      ]
     },
     "metadata": {},
     "output_type": "display_data"
    }
   ],
   "source": [
    "plot_auc_curve(yvalid, predictions[:, 1], model_name='logistic regression',  features='count features')"
   ]
  },
  {
   "cell_type": "code",
   "execution_count": 432,
   "metadata": {},
   "outputs": [
    {
     "data": {
      "text/plain": [
       "0.7810650887573964"
      ]
     },
     "execution_count": 432,
     "metadata": {},
     "output_type": "execute_result"
    }
   ],
   "source": [
    "roc_auc_score(yvalid, predictions[:, 1])"
   ]
  },
  {
   "cell_type": "code",
   "execution_count": 433,
   "metadata": {
    "collapsed": true
   },
   "outputs": [],
   "source": [
    "# Fitting a simple Naive Bayes on TFIDF\n",
    "clf = MultinomialNB()\n",
    "clf.fit(xtrain_tfv, ytrain)\n",
    "predictions = clf.predict_proba(xvalid_tfv)\n",
    "ypred = clf.predict(xvalid_tfv)"
   ]
  },
  {
   "cell_type": "code",
   "execution_count": 434,
   "metadata": {},
   "outputs": [
    {
     "name": "stdout",
     "output_type": "stream",
     "text": [
      "logloss: 0.556 \n"
     ]
    }
   ],
   "source": [
    "print (\"logloss: %0.3f \" % multiclass_logloss(yvalid, predictions))"
   ]
  },
  {
   "cell_type": "code",
   "execution_count": 435,
   "metadata": {},
   "outputs": [
    {
     "data": {
      "image/png": "[encoded data removed]",
      "text/plain": [
       "<matplotlib.figure.Figure at 0x1a406800f0>"
      ]
     },
     "metadata": {},
     "output_type": "display_data"
    }
   ],
   "source": [
    "plot_pr_curve(yvalid, predictions[:, 1], model_name='Naive Bayes', features='TF-IDF')"
   ]
  },
  {
   "cell_type": "code",
   "execution_count": 436,
   "metadata": {},
   "outputs": [
    {
     "name": "stdout",
     "output_type": "stream",
     "text": [
      "             precision    recall  f1-score   support\n",
      "\n",
      "          0       0.73      0.62      0.67        13\n",
      "          1       0.67      0.77      0.71        13\n",
      "\n",
      "avg / total       0.70      0.69      0.69        26\n",
      "\n"
     ]
    }
   ],
   "source": [
    "print(classification_report(yvalid.values, ypred))"
   ]
  },
  {
   "cell_type": "code",
   "execution_count": 437,
   "metadata": {},
   "outputs": [
    {
     "data": {
      "image/png": "[encoded data removed]",
      "text/plain": [
       "<matplotlib.figure.Figure at 0x1a3bc5e748>"
      ]
     },
     "metadata": {},
     "output_type": "display_data"
    }
   ],
   "source": [
    "plot_auc_curve(yvalid, predictions[:, 1], model_name='Naive Bayes',  features='TF-IDF')"
   ]
  },
  {
   "cell_type": "code",
   "execution_count": 438,
   "metadata": {},
   "outputs": [
    {
     "data": {
      "text/plain": [
       "0.8698224852071006"
      ]
     },
     "execution_count": 438,
     "metadata": {},
     "output_type": "execute_result"
    }
   ],
   "source": [
    "roc_auc_score(yvalid, predictions[:, 1])"
   ]
  },
  {
   "cell_type": "markdown",
   "metadata": {},
   "source": [
    "It shows that Navis bayes classifier with count features achieves better ROC AUC score (0.87) compare to other settings."
   ]
  },
  {
   "cell_type": "code",
   "execution_count": 439,
   "metadata": {
    "collapsed": true
   },
   "outputs": [],
   "source": [
    "# Fitting a simple Naive Bayes on Counts\n",
    "clf = MultinomialNB()\n",
    "clf.fit(xtrain_ctv, ytrain)\n",
    "\n",
    "predictions = clf.predict_proba(xvalid_ctv)\n",
    "ypred = clf.predict(xvalid_ctv)"
   ]
  },
  {
   "cell_type": "code",
   "execution_count": 440,
   "metadata": {},
   "outputs": [
    {
     "name": "stdout",
     "output_type": "stream",
     "text": [
      "logloss: 3.732 \n"
     ]
    }
   ],
   "source": [
    "print (\"logloss: %0.3f \" % multiclass_logloss(yvalid, predictions))"
   ]
  },
  {
   "cell_type": "code",
   "execution_count": 441,
   "metadata": {},
   "outputs": [
    {
     "data": {
      "image/png": "[encoded data removed]",
      "text/plain": [
       "<matplotlib.figure.Figure at 0x1a408d8278>"
      ]
     },
     "metadata": {},
     "output_type": "display_data"
    }
   ],
   "source": [
    "plot_pr_curve(yvalid, predictions[:, 1], model_name='Naive Bayes', features='count features')"
   ]
  },
  {
   "cell_type": "code",
   "execution_count": 442,
   "metadata": {},
   "outputs": [
    {
     "name": "stdout",
     "output_type": "stream",
     "text": [
      "             precision    recall  f1-score   support\n",
      "\n",
      "          0       1.00      0.31      0.47        13\n",
      "          1       0.59      1.00      0.74        13\n",
      "\n",
      "avg / total       0.80      0.65      0.61        26\n",
      "\n"
     ]
    }
   ],
   "source": [
    "print(classification_report(yvalid.values, ypred))"
   ]
  },
  {
   "cell_type": "code",
   "execution_count": 443,
   "metadata": {},
   "outputs": [
    {
     "data": {
      "image/png": "[encoded data removed]",
      "text/plain": [
       "<matplotlib.figure.Figure at 0x1a3e4be400>"
      ]
     },
     "metadata": {},
     "output_type": "display_data"
    }
   ],
   "source": [
    "plot_auc_curve(yvalid, predictions[:, 1], model_name='Naive Bayes',  features='count features')"
   ]
  },
  {
   "cell_type": "code",
   "execution_count": 444,
   "metadata": {},
   "outputs": [
    {
     "data": {
      "text/plain": [
       "0.7278106508875739"
      ]
     },
     "execution_count": 444,
     "metadata": {},
     "output_type": "execute_result"
    }
   ],
   "source": [
    "roc_auc_score(yvalid, predictions[:, 1])"
   ]
  },
  {
   "cell_type": "code",
   "execution_count": null,
   "metadata": {
    "collapsed": true
   },
   "outputs": [],
   "source": []
  },
  {
   "cell_type": "markdown",
   "metadata": {},
   "source": [
    "- ### XGBoost"
   ]
  },
  {
   "cell_type": "code",
   "execution_count": 445,
   "metadata": {
    "collapsed": true
   },
   "outputs": [],
   "source": [
    "# Fitting a simple xgboost on tf-idf\n",
    "clf = xgb.XGBClassifier(max_depth=7, n_estimators=200, colsample_bytree=0.8, \n",
    "                        subsample=0.8, nthread=10, learning_rate=0.1)\n",
    "clf.fit(xtrain_tfv.tocsc(), ytrain)\n",
    "predictions = clf.predict_proba(xvalid_tfv.tocsc())\n",
    "ypred = clf.predict(xvalid_tfv.tocsc())\n"
   ]
  },
  {
   "cell_type": "code",
   "execution_count": 446,
   "metadata": {},
   "outputs": [
    {
     "name": "stdout",
     "output_type": "stream",
     "text": [
      "logloss: 0.546 \n"
     ]
    }
   ],
   "source": [
    "print (\"logloss: %0.3f \" % multiclass_logloss(yvalid, predictions))"
   ]
  },
  {
   "cell_type": "code",
   "execution_count": 447,
   "metadata": {},
   "outputs": [
    {
     "data": {
      "image/png": "[encoded data removed]",
      "text/plain": [
       "<matplotlib.figure.Figure at 0x1a3e54e6a0>"
      ]
     },
     "metadata": {},
     "output_type": "display_data"
    }
   ],
   "source": [
    "plot_pr_curve(yvalid, predictions[:, 1], model_name='XGBoost', features='TF-IDF')"
   ]
  },
  {
   "cell_type": "code",
   "execution_count": 448,
   "metadata": {},
   "outputs": [
    {
     "name": "stdout",
     "output_type": "stream",
     "text": [
      "             precision    recall  f1-score   support\n",
      "\n",
      "          0       0.71      0.77      0.74        13\n",
      "          1       0.75      0.69      0.72        13\n",
      "\n",
      "avg / total       0.73      0.73      0.73        26\n",
      "\n"
     ]
    }
   ],
   "source": [
    "print(classification_report(yvalid.values, ypred))"
   ]
  },
  {
   "cell_type": "code",
   "execution_count": 449,
   "metadata": {},
   "outputs": [
    {
     "data": {
      "image/png": "[encoded data removed]",
      "text/plain": [
       "<matplotlib.figure.Figure at 0x1a3e4ea8d0>"
      ]
     },
     "metadata": {},
     "output_type": "display_data"
    }
   ],
   "source": [
    "plot_auc_curve(yvalid, predictions[:, 1], model_name='XGBoost',  features='TF-IDF')"
   ]
  },
  {
   "cell_type": "code",
   "execution_count": 450,
   "metadata": {},
   "outputs": [
    {
     "data": {
      "text/plain": [
       "0.8106508875739644"
      ]
     },
     "execution_count": 450,
     "metadata": {},
     "output_type": "execute_result"
    }
   ],
   "source": [
    "roc_auc_score(yvalid, predictions[:, 1])"
   ]
  },
  {
   "cell_type": "code",
   "execution_count": 451,
   "metadata": {
    "collapsed": true
   },
   "outputs": [],
   "source": [
    "# Fitting a simple xgboost on count features\n",
    "clf = xgb.XGBClassifier(max_depth=7, n_estimators=200, colsample_bytree=0.8, \n",
    "                        subsample=0.8, nthread=10, learning_rate=0.1)\n",
    "\n",
    "clf.fit(xtrain_ctv, ytrain)\n",
    "\n",
    "predictions = clf.predict_proba(xvalid_ctv)\n",
    "ypred = clf.predict(xvalid_ctv)"
   ]
  },
  {
   "cell_type": "code",
   "execution_count": 452,
   "metadata": {},
   "outputs": [
    {
     "name": "stdout",
     "output_type": "stream",
     "text": [
      "logloss: 0.638 \n"
     ]
    }
   ],
   "source": [
    "print (\"logloss: %0.3f \" % multiclass_logloss(yvalid, predictions))"
   ]
  },
  {
   "cell_type": "code",
   "execution_count": 453,
   "metadata": {},
   "outputs": [
    {
     "data": {
      "image/png": "[encoded data removed]",
      "text/plain": [
       "<matplotlib.figure.Figure at 0x1a40f523c8>"
      ]
     },
     "metadata": {},
     "output_type": "display_data"
    }
   ],
   "source": [
    "plot_pr_curve(yvalid, predictions[:, 1], model_name='XGBoost', features='count features')"
   ]
  },
  {
   "cell_type": "code",
   "execution_count": 454,
   "metadata": {},
   "outputs": [
    {
     "name": "stdout",
     "output_type": "stream",
     "text": [
      "             precision    recall  f1-score   support\n",
      "\n",
      "          0       0.77      0.77      0.77        13\n",
      "          1       0.77      0.77      0.77        13\n",
      "\n",
      "avg / total       0.77      0.77      0.77        26\n",
      "\n"
     ]
    }
   ],
   "source": [
    "print(classification_report(yvalid.values, ypred))"
   ]
  },
  {
   "cell_type": "code",
   "execution_count": 455,
   "metadata": {},
   "outputs": [
    {
     "data": {
      "image/png": "[encoded data removed]",
      "text/plain": [
       "<matplotlib.figure.Figure at 0x1a40bbda90>"
      ]
     },
     "metadata": {},
     "output_type": "display_data"
    }
   ],
   "source": [
    "plot_auc_curve(yvalid, predictions[:, 1], model_name='XGBoost',  features='TF-IDF')"
   ]
  },
  {
   "cell_type": "code",
   "execution_count": 456,
   "metadata": {},
   "outputs": [
    {
     "data": {
      "text/plain": [
       "0.7751479289940828"
      ]
     },
     "execution_count": 456,
     "metadata": {},
     "output_type": "execute_result"
    }
   ],
   "source": [
    "roc_auc_score(yvalid, predictions[:, 1])"
   ]
  },
  {
   "cell_type": "markdown",
   "metadata": {},
   "source": [
    "It shows that with xgboost on the tfidf, we achieve better roc-auc score compared to count features."
   ]
  },
  {
   "cell_type": "markdown",
   "metadata": {},
   "source": [
    "- #### Hyperparameter tuning\n"
   ]
  },
  {
   "cell_type": "code",
   "execution_count": 457,
   "metadata": {
    "collapsed": true
   },
   "outputs": [],
   "source": [
    "mll_scorer = metrics.make_scorer(multiclass_logloss, greater_is_better=False, needs_proba=True)"
   ]
  },
  {
   "cell_type": "code",
   "execution_count": 458,
   "metadata": {},
   "outputs": [
    {
     "name": "stdout",
     "output_type": "stream",
     "text": [
      "Fitting 3 folds for each of 2 candidates, totalling 6 fits\n",
      "[CV] n_estimators=100, max_depth=4, learning_rate=0.01 ...............\n",
      "[CV] n_estimators=100, max_depth=4, learning_rate=0.01 ...............\n",
      "[CV] n_estimators=100, max_depth=4, learning_rate=0.01 ...............\n",
      "[CV] n_estimators=500, max_depth=6, learning_rate=0.01 ...............\n",
      "[CV]  n_estimators=100, max_depth=4, learning_rate=0.01, total=   0.1s\n",
      "[CV] n_estimators=500, max_depth=6, learning_rate=0.01 ...............\n",
      "[CV]  n_estimators=100, max_depth=4, learning_rate=0.01, total=   0.1s\n",
      "[CV]  n_estimators=100, max_depth=4, learning_rate=0.01, total=   0.1s\n",
      "[CV] n_estimators=500, max_depth=6, learning_rate=0.01 ...............\n"
     ]
    },
    {
     "name": "stderr",
     "output_type": "stream",
     "text": [
      "[Parallel(n_jobs=4)]: Done   3 out of   6 | elapsed:    0.1s remaining:    0.1s\n"
     ]
    },
    {
     "name": "stdout",
     "output_type": "stream",
     "text": [
      "[CV]  n_estimators=500, max_depth=6, learning_rate=0.01, total=   0.5s\n",
      "[CV]  n_estimators=500, max_depth=6, learning_rate=0.01, total=   0.5s\n",
      "[CV]  n_estimators=500, max_depth=6, learning_rate=0.01, total=   0.5s\n"
     ]
    },
    {
     "name": "stderr",
     "output_type": "stream",
     "text": [
      "[Parallel(n_jobs=4)]: Done   6 out of   6 | elapsed:    0.6s finished\n"
     ]
    },
    {
     "name": "stdout",
     "output_type": "stream",
     "text": [
      "xgboost (hyperparameter tuning with random search)\n",
      "-0.5967701518594628\n",
      "{'n_estimators': 500, 'max_depth': 6, 'learning_rate': 0.01}\n"
     ]
    }
   ],
   "source": [
    "regr_xgb = xgb.XGBClassifier()\n",
    "\n",
    "param_dist = {'learning_rate': [0.01, 0.05, 0.07], \n",
    "              'max_depth': [4, 6],\n",
    "              'n_estimators': [100, 200, 500],\n",
    "              #'min_child_weight': [2, 4],\n",
    "              #'silent': [1],\n",
    "              #'subsample': [0.7],\n",
    "              #'colsample_bytree': [0.7],\n",
    "              #'nthread':[4], #when use hyperthread, xgboost may become slower\n",
    "             }\n",
    "\n",
    "# https://scikit-learn.org/stable/modules/generated/sklearn.model_selection.RandomizedSearchCV.html\n",
    "random_search = RandomizedSearchCV(estimator = regr_xgb, \n",
    "                                   param_distributions = param_dist, \n",
    "                                   n_jobs = 4,\n",
    "                                   n_iter = 2,\n",
    "                                   cv = 3,\n",
    "                                   verbose=2,\n",
    "                                   scoring=mll_scorer,\n",
    "                                  )\n",
    "\n",
    "random_search.fit(xtrain_tfv.tocsc(), ytrain)\n",
    "\n",
    "print('xgboost (hyperparameter tuning with random search)')\n",
    "print(random_search.best_score_)\n",
    "print(random_search.best_params_)\n",
    "\n",
    "predictions = random_search.predict_proba(xvalid_tfv.tocsc())\n",
    "ypred = random_search.predict(xvalid_tfv.tocsc())\n"
   ]
  },
  {
   "cell_type": "code",
   "execution_count": 459,
   "metadata": {},
   "outputs": [
    {
     "name": "stdout",
     "output_type": "stream",
     "text": [
      "logloss: 0.533 \n"
     ]
    }
   ],
   "source": [
    "print (\"logloss: %0.3f \" % multiclass_logloss(yvalid, predictions))"
   ]
  },
  {
   "cell_type": "code",
   "execution_count": 460,
   "metadata": {},
   "outputs": [
    {
     "data": {
      "image/png": "[encoded data removed]",
      "text/plain": [
       "<matplotlib.figure.Figure at 0x1a4120ca58>"
      ]
     },
     "metadata": {},
     "output_type": "display_data"
    }
   ],
   "source": [
    "plot_pr_curve(yvalid, predictions[:, 1], model_name='XGBoost (RandomSearch)', features='TF-IDF')"
   ]
  },
  {
   "cell_type": "code",
   "execution_count": 461,
   "metadata": {},
   "outputs": [
    {
     "name": "stdout",
     "output_type": "stream",
     "text": [
      "             precision    recall  f1-score   support\n",
      "\n",
      "          0       0.75      0.69      0.72        13\n",
      "          1       0.71      0.77      0.74        13\n",
      "\n",
      "avg / total       0.73      0.73      0.73        26\n",
      "\n"
     ]
    }
   ],
   "source": [
    "print(classification_report(yvalid.values, ypred))"
   ]
  },
  {
   "cell_type": "code",
   "execution_count": 462,
   "metadata": {},
   "outputs": [
    {
     "data": {
      "image/png": "[encoded data removed]",
      "text/plain": [
       "<matplotlib.figure.Figure at 0x1a4120c588>"
      ]
     },
     "metadata": {},
     "output_type": "display_data"
    }
   ],
   "source": [
    "plot_auc_curve(yvalid, predictions[:, 1], model_name='XGBoost (RandomSearch)',  features='TF-IDF')"
   ]
  },
  {
   "cell_type": "code",
   "execution_count": 463,
   "metadata": {},
   "outputs": [
    {
     "data": {
      "text/plain": [
       "0.8106508875739644"
      ]
     },
     "execution_count": 463,
     "metadata": {},
     "output_type": "execute_result"
    }
   ],
   "source": [
    "roc_auc_score(yvalid, predictions[:, 1])"
   ]
  },
  {
   "cell_type": "markdown",
   "metadata": {},
   "source": [
    "It shows that random search hyperparameter tuning does not improve the performance."
   ]
  },
  {
   "cell_type": "markdown",
   "metadata": {},
   "source": [
    "- #### Word Embeddings \n",
    "\n",
    "Download the GloVe vectors from here \n",
    "http://www-nlp.stanford.edu/data/glove.840B.300d.zip\n",
    "\n",
    "\n",
    "**Reference**\n",
    "\n",
    "- Word embedding\n",
    "\n",
    "\n",
    "https://machinelearningmastery.com/what-are-word-embeddings/\n",
    "\n",
    "\n",
    "https://www.youtube.com/watch?v=5PL0TmQhItY\n",
    "\n",
    "\n",
    "\n",
    "- Glove embedding\n",
    "\n",
    "https://www.kaggle.com/stacykurnikova/using-glove-embedding\n",
    "\n",
    "https://www.quora.com/How-is-GloVe-different-from-word2vec\n",
    "\n",
    "\n",
    "- Fast word embedding\n",
    "\n",
    "https://www.kaggle.com/vsmolyakov/keras-cnn-with-fasttext-embeddings\n",
    "\n",
    "https://spenai.org/bravepineapple/faster_em/\n",
    "\n",
    "\n",
    "- NLP\n",
    "\n",
    "https://www.kaggle.com/CVxTz/keras-bidirectional-lstm-baseline-lb-0-069\n",
    "\n",
    "https://www.kaggle.com/jhoward/improved-lstm-baseline-glove-dropout"
   ]
  },
  {
   "cell_type": "code",
   "execution_count": 464,
   "metadata": {},
   "outputs": [
    {
     "name": "stderr",
     "output_type": "stream",
     "text": [
      "400000it [00:06, 57534.66it/s]"
     ]
    },
    {
     "name": "stdout",
     "output_type": "stream",
     "text": [
      "Found 400000 word vectors.\n"
     ]
    },
    {
     "name": "stderr",
     "output_type": "stream",
     "text": [
      "\n"
     ]
    }
   ],
   "source": [
    "# load the GloVe vectors in a dictionary:\n",
    "\n",
    "embeddings_index = {}\n",
    "f = open('glove.6B.50d.txt')\n",
    "for line in tqdm(f):\n",
    "    values = line.split()\n",
    "    word = values[0]\n",
    "    coefs = np.asarray(values[1:], dtype='float32')\n",
    "    embeddings_index[word] = coefs\n",
    "f.close()\n",
    "\n",
    "print('Found %s word vectors.' % len(embeddings_index))"
   ]
  },
  {
   "cell_type": "code",
   "execution_count": 465,
   "metadata": {
    "collapsed": true
   },
   "outputs": [],
   "source": [
    "# this function creates a normalized vector for the whole sentence\n",
    "def sent2vec(s):\n",
    "    #stop_words = nltk.download('stopwords')\n",
    "    #words = str(s).lower().decode('utf-8')\n",
    "    words = str(s).lower()\n",
    "    words = word_tokenize(words)\n",
    "    words = [w for w in words if not w in stop_words]\n",
    "    words = [w for w in words if w.isalpha()]\n",
    "    M = []\n",
    "    for w in words:\n",
    "        try:\n",
    "            M.append(embeddings_index[w])\n",
    "        except:\n",
    "            continue\n",
    "    M = np.array(M)\n",
    "    v = M.sum(axis=0)\n",
    "    if type(v) != np.ndarray:\n",
    "        return np.zeros(300)\n",
    "    return v / np.sqrt((v ** 2).sum())"
   ]
  },
  {
   "cell_type": "code",
   "execution_count": 466,
   "metadata": {},
   "outputs": [
    {
     "name": "stderr",
     "output_type": "stream",
     "text": [
      "100%|██████████| 101/101 [00:00<00:00, 730.24it/s]\n",
      "100%|██████████| 26/26 [00:00<00:00, 735.77it/s]\n"
     ]
    }
   ],
   "source": [
    "# create sentence vectors using the above function for training and validation set\n",
    "\n",
    "xtrain_glove = [sent2vec(x) for x in tqdm(xtrain)]\n",
    "xvalid_glove = [sent2vec(x) for x in tqdm(xvalid)]"
   ]
  },
  {
   "cell_type": "code",
   "execution_count": 467,
   "metadata": {
    "collapsed": true
   },
   "outputs": [],
   "source": [
    "xtrain_glove = np.array(xtrain_glove)\n",
    "xvalid_glove = np.array(xvalid_glove)"
   ]
  },
  {
   "cell_type": "code",
   "execution_count": 468,
   "metadata": {
    "collapsed": true
   },
   "outputs": [],
   "source": [
    "# Fitting a simple xgboost on glove features\n",
    "clf = xgb.XGBClassifier(max_depth=7, n_estimators=200, colsample_bytree=0.8, \n",
    "                        subsample=0.8, nthread=10, learning_rate=0.1)\n",
    "\n",
    "clf.fit(xtrain_glove, ytrain)\n",
    "\n",
    "predictions = clf.predict_proba(xvalid_glove)\n",
    "ypred = clf.predict(xvalid_glove)"
   ]
  },
  {
   "cell_type": "code",
   "execution_count": 469,
   "metadata": {},
   "outputs": [
    {
     "name": "stdout",
     "output_type": "stream",
     "text": [
      "logloss: 0.918 \n"
     ]
    }
   ],
   "source": [
    "print (\"logloss: %0.3f \" % multiclass_logloss(yvalid, predictions))"
   ]
  },
  {
   "cell_type": "code",
   "execution_count": 470,
   "metadata": {},
   "outputs": [
    {
     "data": {
      "image/png": "[encoded data removed]",
      "text/plain": [
       "<matplotlib.figure.Figure at 0x1a40eb1240>"
      ]
     },
     "metadata": {},
     "output_type": "display_data"
    }
   ],
   "source": [
    "plot_pr_curve(yvalid, predictions[:, 1], model_name='XGBoost', features='glove embedding')"
   ]
  },
  {
   "cell_type": "code",
   "execution_count": 471,
   "metadata": {},
   "outputs": [
    {
     "name": "stdout",
     "output_type": "stream",
     "text": [
      "             precision    recall  f1-score   support\n",
      "\n",
      "          0       0.64      0.69      0.67        13\n",
      "          1       0.67      0.62      0.64        13\n",
      "\n",
      "avg / total       0.65      0.65      0.65        26\n",
      "\n"
     ]
    }
   ],
   "source": [
    "print(classification_report(yvalid.values, ypred))"
   ]
  },
  {
   "cell_type": "code",
   "execution_count": 472,
   "metadata": {},
   "outputs": [
    {
     "data": {
      "image/png": "[encoded data removed]",
      "text/plain": [
       "<matplotlib.figure.Figure at 0x1a25f94e80>"
      ]
     },
     "metadata": {},
     "output_type": "display_data"
    }
   ],
   "source": [
    "plot_auc_curve(yvalid, predictions[:, 1], model_name='XGBoost',  features='glove embedding')"
   ]
  },
  {
   "cell_type": "code",
   "execution_count": 473,
   "metadata": {},
   "outputs": [
    {
     "data": {
      "text/plain": [
       "0.6863905325443787"
      ]
     },
     "execution_count": 473,
     "metadata": {},
     "output_type": "execute_result"
    }
   ],
   "source": [
    "roc_auc_score(yvalid, predictions[:, 1])"
   ]
  },
  {
   "cell_type": "markdown",
   "metadata": {},
   "source": [
    "It shows that using xgboost with glove embedding features does not improve the performance."
   ]
  },
  {
   "cell_type": "markdown",
   "metadata": {},
   "source": [
    "- ### Deep Learning"
   ]
  },
  {
   "cell_type": "code",
   "execution_count": 474,
   "metadata": {
    "collapsed": true
   },
   "outputs": [],
   "source": [
    "# scale the data before any neural net:\n",
    "scl = preprocessing.StandardScaler()\n",
    "xtrain_glove_scl = scl.fit_transform(xtrain_glove)\n",
    "xvalid_glove_scl = scl.transform(xvalid_glove)"
   ]
  },
  {
   "cell_type": "code",
   "execution_count": 475,
   "metadata": {},
   "outputs": [
    {
     "data": {
      "text/plain": [
       "(101, 50)"
      ]
     },
     "execution_count": 475,
     "metadata": {},
     "output_type": "execute_result"
    }
   ],
   "source": [
    "xtrain_glove.shape"
   ]
  },
  {
   "cell_type": "code",
   "execution_count": 476,
   "metadata": {
    "collapsed": true
   },
   "outputs": [],
   "source": [
    "# we need to binarize the labels for the neural net\n",
    "ytrain_enc = np_utils.to_categorical(ytrain)\n",
    "yvalid_enc = np_utils.to_categorical(yvalid)"
   ]
  },
  {
   "cell_type": "code",
   "execution_count": 477,
   "metadata": {},
   "outputs": [
    {
     "data": {
      "text/plain": [
       "(101, 2)"
      ]
     },
     "execution_count": 477,
     "metadata": {},
     "output_type": "execute_result"
    }
   ],
   "source": [
    "ytrain_enc.shape"
   ]
  },
  {
   "cell_type": "code",
   "execution_count": 478,
   "metadata": {},
   "outputs": [
    {
     "data": {
      "text/plain": [
       "(26, 2)"
      ]
     },
     "execution_count": 478,
     "metadata": {},
     "output_type": "execute_result"
    }
   ],
   "source": [
    "yvalid_enc.shape"
   ]
  },
  {
   "cell_type": "code",
   "execution_count": 479,
   "metadata": {},
   "outputs": [
    {
     "data": {
      "text/plain": [
       "50"
      ]
     },
     "execution_count": 479,
     "metadata": {},
     "output_type": "execute_result"
    }
   ],
   "source": [
    "xtrain_glove.shape[1]"
   ]
  },
  {
   "cell_type": "code",
   "execution_count": 480,
   "metadata": {
    "collapsed": true
   },
   "outputs": [],
   "source": [
    "# create a simple 3 layer sequential neural net\n",
    "model = Sequential()\n",
    "\n",
    "model.add(Dense(300, input_dim=xtrain_glove.shape[1], activation='relu'))\n",
    "model.add(Dropout(0.2))\n",
    "model.add(BatchNormalization())\n",
    "\n",
    "model.add(Dense(300, activation='relu'))\n",
    "model.add(Dropout(0.3))\n",
    "model.add(BatchNormalization())\n",
    "\n",
    "model.add(Dense(2))\n",
    "model.add(Activation('softmax'))\n",
    "\n",
    "# compile the model\n",
    "model.compile(loss='categorical_crossentropy', optimizer='adam')"
   ]
  },
  {
   "cell_type": "code",
   "execution_count": 481,
   "metadata": {},
   "outputs": [
    {
     "name": "stdout",
     "output_type": "stream",
     "text": [
      "Epoch 1/10\n",
      "101/101 [==============================] - 2s 19ms/step - loss: 0.8432\n",
      "Epoch 2/10\n",
      "101/101 [==============================] - 0s 147us/step - loss: 0.6149\n",
      "Epoch 3/10\n",
      "101/101 [==============================] - 0s 115us/step - loss: 0.4212\n",
      "Epoch 4/10\n",
      "101/101 [==============================] - 0s 158us/step - loss: 0.3444\n",
      "Epoch 5/10\n",
      "101/101 [==============================] - 0s 131us/step - loss: 0.2736\n",
      "Epoch 6/10\n",
      "101/101 [==============================] - 0s 146us/step - loss: 0.2347\n",
      "Epoch 7/10\n",
      "101/101 [==============================] - 0s 135us/step - loss: 0.2400\n",
      "Epoch 8/10\n",
      "101/101 [==============================] - 0s 118us/step - loss: 0.1879\n",
      "Epoch 9/10\n",
      "101/101 [==============================] - 0s 125us/step - loss: 0.1477\n",
      "Epoch 10/10\n",
      "101/101 [==============================] - 0s 108us/step - loss: 0.0972\n"
     ]
    },
    {
     "data": {
      "text/plain": [
       "<keras.callbacks.History at 0x1a410fee48>"
      ]
     },
     "execution_count": 481,
     "metadata": {},
     "output_type": "execute_result"
    }
   ],
   "source": [
    "model.fit(xtrain_glove_scl, y=ytrain_enc, batch_size=64, \n",
    "          epochs=10, verbose=1, \n",
    "          #validation_data=(xvalid_glove_scl, yvalid_enc)\n",
    "         )"
   ]
  },
  {
   "cell_type": "code",
   "execution_count": 482,
   "metadata": {
    "collapsed": true
   },
   "outputs": [],
   "source": [
    "predictions = model.predict(xvalid_glove_scl)"
   ]
  },
  {
   "cell_type": "code",
   "execution_count": 483,
   "metadata": {},
   "outputs": [
    {
     "name": "stdout",
     "output_type": "stream",
     "text": [
      "logloss: 1.024 \n"
     ]
    }
   ],
   "source": [
    "print (\"logloss: %0.3f \" % multiclass_logloss(yvalid, predictions))"
   ]
  },
  {
   "cell_type": "code",
   "execution_count": 484,
   "metadata": {
    "collapsed": true
   },
   "outputs": [],
   "source": [
    "ypred = predictions.argmax(axis=-1)"
   ]
  },
  {
   "cell_type": "code",
   "execution_count": 485,
   "metadata": {},
   "outputs": [
    {
     "data": {
      "image/png": "[encoded data removed]",
      "text/plain": [
       "<matplotlib.figure.Figure at 0x1a411002e8>"
      ]
     },
     "metadata": {},
     "output_type": "display_data"
    }
   ],
   "source": [
    "plot_pr_curve(yvalid, predictions[:, 1], model_name='deep learning', features='glove embedding')"
   ]
  },
  {
   "cell_type": "code",
   "execution_count": 486,
   "metadata": {},
   "outputs": [
    {
     "name": "stdout",
     "output_type": "stream",
     "text": [
      "             precision    recall  f1-score   support\n",
      "\n",
      "          0       0.60      0.69      0.64        13\n",
      "          1       0.64      0.54      0.58        13\n",
      "\n",
      "avg / total       0.62      0.62      0.61        26\n",
      "\n"
     ]
    }
   ],
   "source": [
    "print(classification_report(yvalid.values, ypred))"
   ]
  },
  {
   "cell_type": "code",
   "execution_count": 487,
   "metadata": {},
   "outputs": [
    {
     "data": {
      "image/png": "[encoded data removed]",
      "text/plain": [
       "<matplotlib.figure.Figure at 0x1a40e024a8>"
      ]
     },
     "metadata": {},
     "output_type": "display_data"
    }
   ],
   "source": [
    "plot_auc_curve(yvalid, predictions[:, 1], model_name='deep learning',  features='glove embedding')"
   ]
  },
  {
   "cell_type": "code",
   "execution_count": 488,
   "metadata": {},
   "outputs": [
    {
     "data": {
      "text/plain": [
       "0.6568047337278107"
      ]
     },
     "execution_count": 488,
     "metadata": {},
     "output_type": "execute_result"
    }
   ],
   "source": [
    "roc_auc_score(yvalid, predictions[:, 1])"
   ]
  },
  {
   "cell_type": "markdown",
   "metadata": {
    "collapsed": true
   },
   "source": [
    "- #### LSTM"
   ]
  },
  {
   "cell_type": "code",
   "execution_count": 489,
   "metadata": {
    "collapsed": true
   },
   "outputs": [],
   "source": [
    "# using keras tokenizer here\n",
    "token = text.Tokenizer(num_words=None)\n",
    "max_len = 70\n",
    "\n",
    "token.fit_on_texts(list(xtrain) + list(xvalid))\n",
    "xtrain_seq = token.texts_to_sequences(xtrain)\n",
    "xvalid_seq = token.texts_to_sequences(xvalid)\n",
    "\n",
    "# zero pad the sequences\n",
    "xtrain_pad = sequence.pad_sequences(xtrain_seq, maxlen=max_len)\n",
    "xvalid_pad = sequence.pad_sequences(xvalid_seq, maxlen=max_len)\n",
    "\n",
    "word_index = token.word_index"
   ]
  },
  {
   "cell_type": "code",
   "execution_count": 490,
   "metadata": {},
   "outputs": [
    {
     "name": "stderr",
     "output_type": "stream",
     "text": [
      "100%|██████████| 2152/2152 [00:00<00:00, 401572.37it/s]\n"
     ]
    }
   ],
   "source": [
    "# create an embedding matrix for the words we have in the dataset\n",
    "embedding_matrix = np.zeros((len(word_index) + 1, xtrain_glove.shape[1]))\n",
    "for word, i in tqdm(word_index.items()):\n",
    "    embedding_vector = embeddings_index.get(word)\n",
    "    if embedding_vector is not None:\n",
    "        embedding_matrix[i] = embedding_vector"
   ]
  },
  {
   "cell_type": "code",
   "execution_count": 491,
   "metadata": {},
   "outputs": [
    {
     "data": {
      "text/plain": [
       "(2153, 50)"
      ]
     },
     "execution_count": 491,
     "metadata": {},
     "output_type": "execute_result"
    }
   ],
   "source": [
    "embedding_matrix.shape"
   ]
  },
  {
   "cell_type": "code",
   "execution_count": 492,
   "metadata": {},
   "outputs": [
    {
     "data": {
      "text/plain": [
       "2153"
      ]
     },
     "execution_count": 492,
     "metadata": {},
     "output_type": "execute_result"
    }
   ],
   "source": [
    "len(word_index) + 1"
   ]
  },
  {
   "cell_type": "code",
   "execution_count": 508,
   "metadata": {},
   "outputs": [],
   "source": [
    "# LSTM with glove embeddings and two dense layers\n",
    "model = Sequential()\n",
    "model.add(Embedding(len(word_index) + 1,\n",
    "                     embedding_matrix.shape[1],\n",
    "                     weights=[embedding_matrix],\n",
    "                     input_length=max_len,\n",
    "                     trainable=False))\n",
    "model.add(SpatialDropout1D(0.3))\n",
    "model.add(LSTM(5, dropout=0.3, recurrent_dropout=0.3))\n",
    "\n",
    "model.add(Dense(300, activation='relu'))\n",
    "model.add(Dropout(0.2))\n",
    "\n",
    "model.add(Dense(2))\n",
    "model.add(Activation('softmax'))\n",
    "model.compile(loss='categorical_crossentropy', optimizer='adam')\n"
   ]
  },
  {
   "cell_type": "code",
   "execution_count": 526,
   "metadata": {},
   "outputs": [
    {
     "data": {
      "text/plain": [
       "<keras.callbacks.History at 0x1a468b7630>"
      ]
     },
     "execution_count": 526,
     "metadata": {},
     "output_type": "execute_result"
    }
   ],
   "source": [
    "earlystop = EarlyStopping(monitor='val_loss', min_delta=0, patience=3, verbose=0, mode='auto')\n",
    "model.fit(xtrain_pad, y=ytrain_enc, batch_size=1024, epochs=200, verbose=0, \n",
    "          #validation_data=(xvalid_pad, yvalid_enc)\n",
    "         )"
   ]
  },
  {
   "cell_type": "code",
   "execution_count": 527,
   "metadata": {
    "collapsed": true
   },
   "outputs": [],
   "source": [
    "predictions = model.predict(xvalid_pad)"
   ]
  },
  {
   "cell_type": "code",
   "execution_count": 528,
   "metadata": {},
   "outputs": [
    {
     "name": "stdout",
     "output_type": "stream",
     "text": [
      "logloss: 0.843 \n"
     ]
    }
   ],
   "source": [
    "print (\"logloss: %0.3f \" % multiclass_logloss(yvalid, predictions))"
   ]
  },
  {
   "cell_type": "code",
   "execution_count": 529,
   "metadata": {
    "collapsed": true
   },
   "outputs": [],
   "source": [
    "ypred = predictions.argmax(axis=-1)"
   ]
  },
  {
   "cell_type": "code",
   "execution_count": 530,
   "metadata": {},
   "outputs": [
    {
     "data": {
      "image/png": "[encoded data removed]",
      "text/plain": [
       "<matplotlib.figure.Figure at 0x1a468b7e48>"
      ]
     },
     "metadata": {},
     "output_type": "display_data"
    }
   ],
   "source": [
    "plot_pr_curve(yvalid, predictions[:, 1], model_name='lstm', features='glove embedding')"
   ]
  },
  {
   "cell_type": "code",
   "execution_count": 531,
   "metadata": {},
   "outputs": [
    {
     "name": "stdout",
     "output_type": "stream",
     "text": [
      "             precision    recall  f1-score   support\n",
      "\n",
      "          0       0.56      0.69      0.62        13\n",
      "          1       0.60      0.46      0.52        13\n",
      "\n",
      "avg / total       0.58      0.58      0.57        26\n",
      "\n"
     ]
    }
   ],
   "source": [
    "print(classification_report(yvalid.values, ypred))"
   ]
  },
  {
   "cell_type": "code",
   "execution_count": 532,
   "metadata": {},
   "outputs": [
    {
     "data": {
      "image/png": "[encoded data removed]",
      "text/plain": [
       "<matplotlib.figure.Figure at 0x1a45679320>"
      ]
     },
     "metadata": {},
     "output_type": "display_data"
    }
   ],
   "source": [
    "plot_auc_curve(yvalid, predictions[:, 1], model_name='lstm',  features='glove embedding')"
   ]
  },
  {
   "cell_type": "code",
   "execution_count": 533,
   "metadata": {},
   "outputs": [
    {
     "data": {
      "text/plain": [
       "0.6568047337278107"
      ]
     },
     "execution_count": 533,
     "metadata": {},
     "output_type": "execute_result"
    }
   ],
   "source": [
    "roc_auc_score(yvalid, predictions[:, 1])"
   ]
  },
  {
   "cell_type": "code",
   "execution_count": 534,
   "metadata": {
    "collapsed": true
   },
   "outputs": [],
   "source": [
    "# LSTM with glove embeddings and two dense layers\n",
    "model = Sequential()\n",
    "model.add(Embedding(len(word_index) + 1,\n",
    "                     embedding_matrix.shape[1],\n",
    "                     weights=[embedding_matrix],\n",
    "                     input_length=max_len,\n",
    "                     trainable=False))\n",
    "model.add(SpatialDropout1D(0.3))\n",
    "model.add(GRU(10, dropout=0.3, recurrent_dropout=0.3))\n",
    "\n",
    "model.add(Dense(300, activation='relu'))\n",
    "model.add(Dropout(0.2))\n",
    "\n",
    "model.add(Dense(2))\n",
    "model.add(Activation('softmax'))\n",
    "model.compile(loss='categorical_crossentropy', optimizer='adam')"
   ]
  },
  {
   "cell_type": "code",
   "execution_count": 535,
   "metadata": {},
   "outputs": [
    {
     "name": "stdout",
     "output_type": "stream",
     "text": [
      "Train on 101 samples, validate on 26 samples\n",
      "Epoch 1/100\n",
      "101/101 [==============================] - 4s 36ms/step - loss: 0.6907 - val_loss: 0.6857\n",
      "Epoch 2/100\n",
      "101/101 [==============================] - 0s 882us/step - loss: 0.6839 - val_loss: 0.6845\n",
      "Epoch 3/100\n",
      "101/101 [==============================] - 0s 804us/step - loss: 0.7050 - val_loss: 0.6833\n",
      "Epoch 4/100\n",
      "101/101 [==============================] - 0s 915us/step - loss: 0.6975 - val_loss: 0.6817\n",
      "Epoch 5/100\n",
      "101/101 [==============================] - 0s 1ms/step - loss: 0.6939 - val_loss: 0.6805\n",
      "Epoch 6/100\n",
      "101/101 [==============================] - 0s 845us/step - loss: 0.6962 - val_loss: 0.6793\n",
      "Epoch 7/100\n",
      "101/101 [==============================] - 0s 795us/step - loss: 0.7049 - val_loss: 0.6782\n",
      "Epoch 8/100\n",
      "101/101 [==============================] - 0s 756us/step - loss: 0.6975 - val_loss: 0.6770\n",
      "Epoch 9/100\n",
      "101/101 [==============================] - 0s 725us/step - loss: 0.7052 - val_loss: 0.6757\n",
      "Epoch 10/100\n",
      "101/101 [==============================] - 0s 786us/step - loss: 0.6933 - val_loss: 0.6744\n",
      "Epoch 11/100\n",
      "101/101 [==============================] - 0s 750us/step - loss: 0.6973 - val_loss: 0.6728\n",
      "Epoch 12/100\n",
      "101/101 [==============================] - 0s 871us/step - loss: 0.6816 - val_loss: 0.6710\n",
      "Epoch 13/100\n",
      "101/101 [==============================] - 0s 826us/step - loss: 0.6864 - val_loss: 0.6696\n",
      "Epoch 14/100\n",
      "101/101 [==============================] - 0s 831us/step - loss: 0.6850 - val_loss: 0.6682\n",
      "Epoch 15/100\n",
      "101/101 [==============================] - 0s 802us/step - loss: 0.6753 - val_loss: 0.6668\n",
      "Epoch 16/100\n",
      "101/101 [==============================] - 0s 809us/step - loss: 0.6786 - val_loss: 0.6654\n",
      "Epoch 17/100\n",
      "101/101 [==============================] - 0s 844us/step - loss: 0.6874 - val_loss: 0.6643\n",
      "Epoch 18/100\n",
      "101/101 [==============================] - 0s 1ms/step - loss: 0.6743 - val_loss: 0.6631\n",
      "Epoch 19/100\n",
      "101/101 [==============================] - 0s 737us/step - loss: 0.6880 - val_loss: 0.6619\n",
      "Epoch 20/100\n",
      "101/101 [==============================] - 0s 764us/step - loss: 0.6897 - val_loss: 0.6609\n",
      "Epoch 21/100\n",
      "101/101 [==============================] - 0s 871us/step - loss: 0.6876 - val_loss: 0.6599\n",
      "Epoch 22/100\n",
      "101/101 [==============================] - 0s 814us/step - loss: 0.6829 - val_loss: 0.6588\n",
      "Epoch 23/100\n",
      "101/101 [==============================] - 0s 802us/step - loss: 0.6634 - val_loss: 0.6575\n",
      "Epoch 24/100\n",
      "101/101 [==============================] - 0s 791us/step - loss: 0.6741 - val_loss: 0.6562\n",
      "Epoch 25/100\n",
      "101/101 [==============================] - 0s 767us/step - loss: 0.6845 - val_loss: 0.6550\n",
      "Epoch 26/100\n",
      "101/101 [==============================] - 0s 728us/step - loss: 0.6866 - val_loss: 0.6540\n",
      "Epoch 27/100\n",
      "101/101 [==============================] - 0s 679us/step - loss: 0.6610 - val_loss: 0.6530\n",
      "Epoch 28/100\n",
      "101/101 [==============================] - 0s 807us/step - loss: 0.6721 - val_loss: 0.6521\n",
      "Epoch 29/100\n",
      "101/101 [==============================] - 0s 784us/step - loss: 0.6708 - val_loss: 0.6513\n",
      "Epoch 30/100\n",
      "101/101 [==============================] - 0s 785us/step - loss: 0.6838 - val_loss: 0.6505\n",
      "Epoch 31/100\n",
      "101/101 [==============================] - 0s 892us/step - loss: 0.6710 - val_loss: 0.6497\n",
      "Epoch 32/100\n",
      "101/101 [==============================] - 0s 869us/step - loss: 0.6575 - val_loss: 0.6490\n",
      "Epoch 33/100\n",
      "101/101 [==============================] - 0s 839us/step - loss: 0.6794 - val_loss: 0.6484\n",
      "Epoch 34/100\n",
      "101/101 [==============================] - 0s 874us/step - loss: 0.6732 - val_loss: 0.6478\n",
      "Epoch 35/100\n",
      "101/101 [==============================] - 0s 866us/step - loss: 0.6622 - val_loss: 0.6473\n",
      "Epoch 36/100\n",
      "101/101 [==============================] - 0s 850us/step - loss: 0.6794 - val_loss: 0.6468\n",
      "Epoch 37/100\n",
      "101/101 [==============================] - 0s 891us/step - loss: 0.6813 - val_loss: 0.6463\n",
      "Epoch 38/100\n",
      "101/101 [==============================] - 0s 855us/step - loss: 0.6806 - val_loss: 0.6460\n",
      "Epoch 39/100\n",
      "101/101 [==============================] - 0s 866us/step - loss: 0.6779 - val_loss: 0.6456\n",
      "Epoch 40/100\n",
      "101/101 [==============================] - 0s 875us/step - loss: 0.6728 - val_loss: 0.6453\n",
      "Epoch 41/100\n",
      "101/101 [==============================] - 0s 891us/step - loss: 0.6870 - val_loss: 0.6450\n",
      "Epoch 42/100\n",
      "101/101 [==============================] - 0s 842us/step - loss: 0.6328 - val_loss: 0.6443\n",
      "Epoch 43/100\n",
      "101/101 [==============================] - 0s 826us/step - loss: 0.6632 - val_loss: 0.6433\n",
      "Epoch 44/100\n",
      "101/101 [==============================] - 0s 824us/step - loss: 0.6887 - val_loss: 0.6424\n",
      "Epoch 45/100\n",
      "101/101 [==============================] - 0s 797us/step - loss: 0.6528 - val_loss: 0.6418\n",
      "Epoch 46/100\n",
      "101/101 [==============================] - 0s 818us/step - loss: 0.6772 - val_loss: 0.6414\n",
      "Epoch 47/100\n",
      "101/101 [==============================] - 0s 760us/step - loss: 0.6479 - val_loss: 0.6407\n",
      "Epoch 48/100\n",
      "101/101 [==============================] - 0s 714us/step - loss: 0.6671 - val_loss: 0.6402\n",
      "Epoch 49/100\n",
      "101/101 [==============================] - 0s 754us/step - loss: 0.6548 - val_loss: 0.6396\n",
      "Epoch 50/100\n",
      "101/101 [==============================] - 0s 771us/step - loss: 0.6760 - val_loss: 0.6391\n",
      "Epoch 51/100\n",
      "101/101 [==============================] - 0s 797us/step - loss: 0.6506 - val_loss: 0.6383\n",
      "Epoch 52/100\n",
      "101/101 [==============================] - 0s 767us/step - loss: 0.6776 - val_loss: 0.6375\n",
      "Epoch 53/100\n",
      "101/101 [==============================] - 0s 747us/step - loss: 0.6270 - val_loss: 0.6365\n",
      "Epoch 54/100\n",
      "101/101 [==============================] - 0s 765us/step - loss: 0.6628 - val_loss: 0.6356\n",
      "Epoch 55/100\n",
      "101/101 [==============================] - 0s 795us/step - loss: 0.6383 - val_loss: 0.6346\n",
      "Epoch 56/100\n",
      "101/101 [==============================] - 0s 823us/step - loss: 0.6523 - val_loss: 0.6339\n",
      "Epoch 57/100\n",
      "101/101 [==============================] - 0s 745us/step - loss: 0.6608 - val_loss: 0.6332\n",
      "Epoch 58/100\n",
      "101/101 [==============================] - 0s 749us/step - loss: 0.6665 - val_loss: 0.6324\n",
      "Epoch 59/100\n",
      "101/101 [==============================] - 0s 732us/step - loss: 0.6202 - val_loss: 0.6313\n",
      "Epoch 60/100\n",
      "101/101 [==============================] - 0s 725us/step - loss: 0.6568 - val_loss: 0.6303\n",
      "Epoch 61/100\n",
      "101/101 [==============================] - 0s 678us/step - loss: 0.6372 - val_loss: 0.6293\n",
      "Epoch 62/100\n",
      "101/101 [==============================] - 0s 718us/step - loss: 0.6454 - val_loss: 0.6285\n",
      "Epoch 63/100\n",
      "101/101 [==============================] - 0s 712us/step - loss: 0.6330 - val_loss: 0.6277\n",
      "Epoch 64/100\n",
      "101/101 [==============================] - 0s 778us/step - loss: 0.6119 - val_loss: 0.6267\n",
      "Epoch 65/100\n",
      "101/101 [==============================] - 0s 793us/step - loss: 0.6156 - val_loss: 0.6258\n",
      "Epoch 66/100\n",
      "101/101 [==============================] - 0s 699us/step - loss: 0.6391 - val_loss: 0.6250\n",
      "Epoch 67/100\n",
      "101/101 [==============================] - 0s 696us/step - loss: 0.6485 - val_loss: 0.6243\n",
      "Epoch 68/100\n",
      "101/101 [==============================] - 0s 740us/step - loss: 0.6163 - val_loss: 0.6235\n",
      "Epoch 69/100\n",
      "101/101 [==============================] - 0s 855us/step - loss: 0.6335 - val_loss: 0.6228\n",
      "Epoch 70/100\n",
      "101/101 [==============================] - 0s 721us/step - loss: 0.6653 - val_loss: 0.6220\n",
      "Epoch 71/100\n",
      "101/101 [==============================] - 0s 703us/step - loss: 0.6038 - val_loss: 0.6213\n",
      "Epoch 72/100\n",
      "101/101 [==============================] - 0s 688us/step - loss: 0.5998 - val_loss: 0.6208\n",
      "Epoch 73/100\n",
      "101/101 [==============================] - 0s 731us/step - loss: 0.6335 - val_loss: 0.6204\n",
      "Epoch 74/100\n",
      "101/101 [==============================] - 0s 749us/step - loss: 0.6361 - val_loss: 0.6200\n",
      "Epoch 75/100\n",
      "101/101 [==============================] - 0s 742us/step - loss: 0.6193 - val_loss: 0.6197\n",
      "Epoch 76/100\n",
      "101/101 [==============================] - 0s 749us/step - loss: 0.6422 - val_loss: 0.6195\n",
      "Epoch 77/100\n",
      "101/101 [==============================] - 0s 738us/step - loss: 0.6602 - val_loss: 0.6195\n",
      "Epoch 78/100\n",
      "101/101 [==============================] - 0s 713us/step - loss: 0.6145 - val_loss: 0.6197\n",
      "Epoch 79/100\n",
      "101/101 [==============================] - 0s 780us/step - loss: 0.6630 - val_loss: 0.6197\n"
     ]
    },
    {
     "data": {
      "text/plain": [
       "<keras.callbacks.History at 0x1a495cd0f0>"
      ]
     },
     "execution_count": 535,
     "metadata": {},
     "output_type": "execute_result"
    }
   ],
   "source": [
    "earlystop = EarlyStopping(monitor='val_loss', min_delta=0, patience=3, verbose=0, mode='auto')\n",
    "model.fit(xtrain_pad, y=ytrain_enc, batch_size=512, epochs=100, \n",
    "          verbose=1, validation_data=(xvalid_pad, yvalid_enc), \n",
    "          callbacks=[earlystop]\n",
    "         )"
   ]
  },
  {
   "cell_type": "code",
   "execution_count": 536,
   "metadata": {
    "collapsed": true
   },
   "outputs": [],
   "source": [
    "predictions = model.predict(xvalid_pad)"
   ]
  },
  {
   "cell_type": "code",
   "execution_count": 537,
   "metadata": {},
   "outputs": [
    {
     "name": "stdout",
     "output_type": "stream",
     "text": [
      "logloss: 0.620 \n"
     ]
    }
   ],
   "source": [
    "print (\"logloss: %0.3f \" % multiclass_logloss(yvalid, predictions))"
   ]
  },
  {
   "cell_type": "code",
   "execution_count": 538,
   "metadata": {
    "collapsed": true
   },
   "outputs": [],
   "source": [
    "ypred = predictions.argmax(axis=-1)"
   ]
  },
  {
   "cell_type": "code",
   "execution_count": 541,
   "metadata": {},
   "outputs": [
    {
     "data": {
      "image/png": "[encoded data removed]",
      "text/plain": [
       "<matplotlib.figure.Figure at 0x1a495e45f8>"
      ]
     },
     "metadata": {},
     "output_type": "display_data"
    }
   ],
   "source": [
    "plot_pr_curve(yvalid, predictions[:, 1], model_name='gru', features='glove embedding')"
   ]
  },
  {
   "cell_type": "code",
   "execution_count": 542,
   "metadata": {},
   "outputs": [
    {
     "name": "stdout",
     "output_type": "stream",
     "text": [
      "             precision    recall  f1-score   support\n",
      "\n",
      "          0       0.58      0.54      0.56        13\n",
      "          1       0.57      0.62      0.59        13\n",
      "\n",
      "avg / total       0.58      0.58      0.58        26\n",
      "\n"
     ]
    }
   ],
   "source": [
    "print(classification_report(yvalid.values, ypred))"
   ]
  },
  {
   "cell_type": "code",
   "execution_count": 543,
   "metadata": {},
   "outputs": [
    {
     "data": {
      "image/png": "[encoded data removed]",
      "text/plain": [
       "<matplotlib.figure.Figure at 0x1a459d9588>"
      ]
     },
     "metadata": {},
     "output_type": "display_data"
    }
   ],
   "source": [
    "plot_auc_curve(yvalid, predictions[:, 1], model_name='gru',  features='glove embedding')"
   ]
  },
  {
   "cell_type": "code",
   "execution_count": null,
   "metadata": {
    "collapsed": true
   },
   "outputs": [],
   "source": []
  },
  {
   "cell_type": "code",
   "execution_count": null,
   "metadata": {
    "collapsed": true
   },
   "outputs": [],
   "source": []
  },
  {
   "cell_type": "code",
   "execution_count": null,
   "metadata": {
    "collapsed": true
   },
   "outputs": [],
   "source": []
  },
  {
   "cell_type": "code",
   "execution_count": null,
   "metadata": {
    "collapsed": true
   },
   "outputs": [],
   "source": []
  },
  {
   "cell_type": "markdown",
   "metadata": {},
   "source": [
    "- ### Reference\n",
    "\n",
    "**EDA**\n",
    "\n",
    "**Evaluation**\n",
    "\n",
    "https://towardsdatascience.com/understanding-binary-cross-entropy-log-loss-a-visual-explanation-a3ac6025181a\n",
    "\n",
    "https://medium.com/30-days-of-machine-learning/day-5-entropy-relative-entropy-and-cross-entropy-8369d67cc180\n",
    "\n",
    "https://machinelearningmastery.com/loss-and-loss-functions-for-training-deep-learning-neural-networks/\n",
    "\n",
    "https://machinelearningmastery.com/roc-curves-and-precision-recall-curves-for-classification-in-python/\n",
    "\n",
    "\n",
    "**NLP**\n",
    "\n",
    "https://www.kaggle.com/c/jigsaw-toxic-comment-classification-challenge/kernels\n",
    "\n",
    "https://www.kaggle.com/c/spooky-author-identification/kernels\n",
    "\n",
    "https://www.kaggle.com/abhishek/approaching-almost-any-nlp-problem-on-kaggle\n",
    "\n",
    "https://www.kaggle.com/theoviel/improve-your-score-with-some-text-preprocessing\n",
    "\n",
    "https://www.kaggle.com/jhoward/nb-svm-strong-linear-baseline\n",
    "\n",
    "\n",
    "\n",
    "https://www.kaggle.com/tunguz/logistic-regression-with-words-and-char-n-grams\n",
    "\n",
    "\n",
    "**General Data Science**\n",
    "\n",
    "https://www.kaggle.com/kernels?sortBy=voteCount&group=everyone&pageSize=20"
   ]
  },
  {
   "cell_type": "code",
   "execution_count": null,
   "metadata": {
    "collapsed": true
   },
   "outputs": [],
   "source": []
  }
 ],
 "metadata": {
  "kernelspec": {
   "display_name": "Python 3",
   "language": "python",
   "name": "python3"
  },
  "language_info": {
   "codemirror_mode": {
    "name": "ipython",
    "version": 3
   },
   "file_extension": ".py",
   "mimetype": "text/x-python",
   "name": "python",
   "nbconvert_exporter": "python",
   "pygments_lexer": "ipython3",
   "version": "3.6.8"
  }
 },
 "nbformat": 4,
 "nbformat_minor": 2
}
